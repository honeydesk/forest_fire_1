{
 "cells": [
  {
   "cell_type": "code",
   "execution_count": 26,
   "id": "01796b5d",
   "metadata": {},
   "outputs": [],
   "source": [
    "import pandas as pd\n",
    "import numpy as np\n",
    "import matplotlib.pyplot as plt\n",
    "import seaborn as sns\n",
    "from sklearn.model_selection import train_test_split"
   ]
  },
  {
   "cell_type": "code",
   "execution_count": 27,
   "id": "e83d0e13",
   "metadata": {},
   "outputs": [],
   "source": [
    "df = pd.read_csv('../Algerian_forest_fires_dataset_UPDATE.csv', header = 1)"
   ]
  },
  {
   "cell_type": "code",
   "execution_count": 28,
   "id": "52343441",
   "metadata": {},
   "outputs": [
    {
     "data": {
      "text/html": [
       "<div>\n",
       "<style scoped>\n",
       "    .dataframe tbody tr th:only-of-type {\n",
       "        vertical-align: middle;\n",
       "    }\n",
       "\n",
       "    .dataframe tbody tr th {\n",
       "        vertical-align: top;\n",
       "    }\n",
       "\n",
       "    .dataframe thead th {\n",
       "        text-align: right;\n",
       "    }\n",
       "</style>\n",
       "<table border=\"1\" class=\"dataframe\">\n",
       "  <thead>\n",
       "    <tr style=\"text-align: right;\">\n",
       "      <th></th>\n",
       "      <th>day</th>\n",
       "      <th>month</th>\n",
       "      <th>year</th>\n",
       "      <th>Temperature</th>\n",
       "      <th>RH</th>\n",
       "      <th>Ws</th>\n",
       "      <th>Rain</th>\n",
       "      <th>FFMC</th>\n",
       "      <th>DMC</th>\n",
       "      <th>DC</th>\n",
       "      <th>ISI</th>\n",
       "      <th>BUI</th>\n",
       "      <th>FWI</th>\n",
       "      <th>Classes</th>\n",
       "    </tr>\n",
       "  </thead>\n",
       "  <tbody>\n",
       "    <tr>\n",
       "      <th>0</th>\n",
       "      <td>01</td>\n",
       "      <td>06</td>\n",
       "      <td>2012</td>\n",
       "      <td>29</td>\n",
       "      <td>57</td>\n",
       "      <td>18</td>\n",
       "      <td>0</td>\n",
       "      <td>65.7</td>\n",
       "      <td>3.4</td>\n",
       "      <td>7.6</td>\n",
       "      <td>1.3</td>\n",
       "      <td>3.4</td>\n",
       "      <td>0.5</td>\n",
       "      <td>not fire</td>\n",
       "    </tr>\n",
       "    <tr>\n",
       "      <th>1</th>\n",
       "      <td>02</td>\n",
       "      <td>06</td>\n",
       "      <td>2012</td>\n",
       "      <td>29</td>\n",
       "      <td>61</td>\n",
       "      <td>13</td>\n",
       "      <td>1.3</td>\n",
       "      <td>64.4</td>\n",
       "      <td>4.1</td>\n",
       "      <td>7.6</td>\n",
       "      <td>1</td>\n",
       "      <td>3.9</td>\n",
       "      <td>0.4</td>\n",
       "      <td>not fire</td>\n",
       "    </tr>\n",
       "    <tr>\n",
       "      <th>2</th>\n",
       "      <td>03</td>\n",
       "      <td>06</td>\n",
       "      <td>2012</td>\n",
       "      <td>26</td>\n",
       "      <td>82</td>\n",
       "      <td>22</td>\n",
       "      <td>13.1</td>\n",
       "      <td>47.1</td>\n",
       "      <td>2.5</td>\n",
       "      <td>7.1</td>\n",
       "      <td>0.3</td>\n",
       "      <td>2.7</td>\n",
       "      <td>0.1</td>\n",
       "      <td>not fire</td>\n",
       "    </tr>\n",
       "    <tr>\n",
       "      <th>3</th>\n",
       "      <td>04</td>\n",
       "      <td>06</td>\n",
       "      <td>2012</td>\n",
       "      <td>25</td>\n",
       "      <td>89</td>\n",
       "      <td>13</td>\n",
       "      <td>2.5</td>\n",
       "      <td>28.6</td>\n",
       "      <td>1.3</td>\n",
       "      <td>6.9</td>\n",
       "      <td>0</td>\n",
       "      <td>1.7</td>\n",
       "      <td>0</td>\n",
       "      <td>not fire</td>\n",
       "    </tr>\n",
       "    <tr>\n",
       "      <th>4</th>\n",
       "      <td>05</td>\n",
       "      <td>06</td>\n",
       "      <td>2012</td>\n",
       "      <td>27</td>\n",
       "      <td>77</td>\n",
       "      <td>16</td>\n",
       "      <td>0</td>\n",
       "      <td>64.8</td>\n",
       "      <td>3</td>\n",
       "      <td>14.2</td>\n",
       "      <td>1.2</td>\n",
       "      <td>3.9</td>\n",
       "      <td>0.5</td>\n",
       "      <td>not fire</td>\n",
       "    </tr>\n",
       "  </tbody>\n",
       "</table>\n",
       "</div>"
      ],
      "text/plain": [
       "  day month  year Temperature  RH  Ws Rain   FFMC  DMC    DC  ISI  BUI  FWI  \\\n",
       "0  01    06  2012          29  57  18     0  65.7  3.4   7.6  1.3  3.4  0.5   \n",
       "1  02    06  2012          29  61  13   1.3  64.4  4.1   7.6    1  3.9  0.4   \n",
       "2  03    06  2012          26  82  22  13.1  47.1  2.5   7.1  0.3  2.7  0.1   \n",
       "3  04    06  2012          25  89  13   2.5  28.6  1.3   6.9    0  1.7    0   \n",
       "4  05    06  2012          27  77  16     0  64.8    3  14.2  1.2  3.9  0.5   \n",
       "\n",
       "     Classes    \n",
       "0  not fire     \n",
       "1  not fire     \n",
       "2  not fire     \n",
       "3  not fire     \n",
       "4  not fire     "
      ]
     },
     "execution_count": 28,
     "metadata": {},
     "output_type": "execute_result"
    }
   ],
   "source": [
    "df.head()"
   ]
  },
  {
   "cell_type": "code",
   "execution_count": 29,
   "id": "a5095db0",
   "metadata": {},
   "outputs": [
    {
     "name": "stdout",
     "output_type": "stream",
     "text": [
      "<class 'pandas.core.frame.DataFrame'>\n",
      "RangeIndex: 246 entries, 0 to 245\n",
      "Data columns (total 14 columns):\n",
      " #   Column       Non-Null Count  Dtype \n",
      "---  ------       --------------  ----- \n",
      " 0   day          246 non-null    object\n",
      " 1   month        245 non-null    object\n",
      " 2   year         245 non-null    object\n",
      " 3   Temperature  245 non-null    object\n",
      " 4    RH          245 non-null    object\n",
      " 5    Ws          245 non-null    object\n",
      " 6   Rain         245 non-null    object\n",
      " 7   FFMC         245 non-null    object\n",
      " 8   DMC          245 non-null    object\n",
      " 9   DC           245 non-null    object\n",
      " 10  ISI          245 non-null    object\n",
      " 11  BUI          245 non-null    object\n",
      " 12  FWI          245 non-null    object\n",
      " 13  Classes      244 non-null    object\n",
      "dtypes: object(14)\n",
      "memory usage: 27.0+ KB\n"
     ]
    }
   ],
   "source": [
    "df.info()"
   ]
  },
  {
   "cell_type": "code",
   "execution_count": 30,
   "id": "38efff9d",
   "metadata": {},
   "outputs": [
    {
     "data": {
      "text/plain": [
       "day            0\n",
       "month          1\n",
       "year           1\n",
       "Temperature    1\n",
       " RH            1\n",
       " Ws            1\n",
       "Rain           1\n",
       "FFMC           1\n",
       "DMC            1\n",
       "DC             1\n",
       "ISI            1\n",
       "BUI            1\n",
       "FWI            1\n",
       "Classes        2\n",
       "dtype: int64"
      ]
     },
     "execution_count": 30,
     "metadata": {},
     "output_type": "execute_result"
    }
   ],
   "source": [
    "df.isnull().sum()"
   ]
  },
  {
   "cell_type": "markdown",
   "id": "584e5c41",
   "metadata": {},
   "source": [
    "## RESTRUCTURE DATAFRAME"
   ]
  },
  {
   "cell_type": "code",
   "execution_count": 31,
   "id": "e32696f7",
   "metadata": {},
   "outputs": [],
   "source": [
    "df3 = df.copy()"
   ]
  },
  {
   "cell_type": "code",
   "execution_count": 32,
   "id": "06612d07",
   "metadata": {},
   "outputs": [
    {
     "data": {
      "text/plain": [
       "Index(['day', 'month', 'year', 'Temperature', 'RH', 'Ws', 'Rain', 'FFMC',\n",
       "       'DMC', 'DC', 'ISI', 'BUI', 'FWI', 'Classes'],\n",
       "      dtype='object')"
      ]
     },
     "execution_count": 32,
     "metadata": {},
     "output_type": "execute_result"
    }
   ],
   "source": [
    "#removing whitespace from column names\n",
    "df3.columns = df3.columns.str.replace(' ','')\n",
    "df3.columns"
   ]
  },
  {
   "cell_type": "code",
   "execution_count": 33,
   "id": "b0a3b087",
   "metadata": {},
   "outputs": [
    {
     "data": {
      "text/plain": [
       "array(['not fire   ', 'fire   ', 'fire', 'fire ', 'not fire', 'not fire ',\n",
       "       nan, 'Classes  ', 'not fire     ', 'not fire    '], dtype=object)"
      ]
     },
     "execution_count": 33,
     "metadata": {},
     "output_type": "execute_result"
    }
   ],
   "source": [
    "df3['Classes'].unique()"
   ]
  },
  {
   "cell_type": "code",
   "execution_count": 34,
   "id": "5769378c",
   "metadata": {},
   "outputs": [],
   "source": [
    "df3['Classes'] = df3['Classes'].str.strip()"
   ]
  },
  {
   "cell_type": "code",
   "execution_count": 35,
   "id": "35ac03ce",
   "metadata": {},
   "outputs": [],
   "source": [
    "df3['DC'] = df3['DC'].str.replace(' ','')"
   ]
  },
  {
   "cell_type": "code",
   "execution_count": 36,
   "id": "0434e420",
   "metadata": {},
   "outputs": [],
   "source": [
    "df3['FWI'] = df3['FWI'].str.replace(' ','')"
   ]
  },
  {
   "cell_type": "code",
   "execution_count": 37,
   "id": "a26b84c7",
   "metadata": {},
   "outputs": [
    {
     "data": {
      "text/html": [
       "<div>\n",
       "<style scoped>\n",
       "    .dataframe tbody tr th:only-of-type {\n",
       "        vertical-align: middle;\n",
       "    }\n",
       "\n",
       "    .dataframe tbody tr th {\n",
       "        vertical-align: top;\n",
       "    }\n",
       "\n",
       "    .dataframe thead th {\n",
       "        text-align: right;\n",
       "    }\n",
       "</style>\n",
       "<table border=\"1\" class=\"dataframe\">\n",
       "  <thead>\n",
       "    <tr style=\"text-align: right;\">\n",
       "      <th></th>\n",
       "      <th>day</th>\n",
       "      <th>month</th>\n",
       "      <th>year</th>\n",
       "      <th>Temperature</th>\n",
       "      <th>RH</th>\n",
       "      <th>Ws</th>\n",
       "      <th>Rain</th>\n",
       "      <th>FFMC</th>\n",
       "      <th>DMC</th>\n",
       "      <th>DC</th>\n",
       "      <th>ISI</th>\n",
       "      <th>BUI</th>\n",
       "      <th>FWI</th>\n",
       "      <th>Classes</th>\n",
       "    </tr>\n",
       "  </thead>\n",
       "  <tbody>\n",
       "    <tr>\n",
       "      <th>122</th>\n",
       "      <td>Sidi-Bel Abbes Region Dataset</td>\n",
       "      <td>NaN</td>\n",
       "      <td>NaN</td>\n",
       "      <td>NaN</td>\n",
       "      <td>NaN</td>\n",
       "      <td>NaN</td>\n",
       "      <td>NaN</td>\n",
       "      <td>NaN</td>\n",
       "      <td>NaN</td>\n",
       "      <td>NaN</td>\n",
       "      <td>NaN</td>\n",
       "      <td>NaN</td>\n",
       "      <td>NaN</td>\n",
       "      <td>NaN</td>\n",
       "    </tr>\n",
       "    <tr>\n",
       "      <th>167</th>\n",
       "      <td>14</td>\n",
       "      <td>07</td>\n",
       "      <td>2012</td>\n",
       "      <td>37</td>\n",
       "      <td>37</td>\n",
       "      <td>18</td>\n",
       "      <td>0.2</td>\n",
       "      <td>88.9</td>\n",
       "      <td>12.9</td>\n",
       "      <td>14.69</td>\n",
       "      <td>12.5</td>\n",
       "      <td>10.4</td>\n",
       "      <td>fire</td>\n",
       "      <td>NaN</td>\n",
       "    </tr>\n",
       "  </tbody>\n",
       "</table>\n",
       "</div>"
      ],
      "text/plain": [
       "                               day month  year Temperature   RH   Ws Rain  \\\n",
       "122  Sidi-Bel Abbes Region Dataset   NaN   NaN         NaN  NaN  NaN  NaN   \n",
       "167                             14    07  2012          37   37   18  0.2   \n",
       "\n",
       "     FFMC   DMC     DC   ISI   BUI   FWI Classes  \n",
       "122   NaN   NaN    NaN   NaN   NaN   NaN     NaN  \n",
       "167  88.9  12.9  14.69  12.5  10.4  fire     NaN  "
      ]
     },
     "execution_count": 37,
     "metadata": {},
     "output_type": "execute_result"
    }
   ],
   "source": [
    "df3[df3['Classes'].isnull()]"
   ]
  },
  {
   "cell_type": "code",
   "execution_count": 38,
   "id": "564079e3",
   "metadata": {},
   "outputs": [
    {
     "data": {
      "text/plain": [
       "array(['01', '02', '03', '04', '05', '06', '07', '08', '09', '10', '11',\n",
       "       '12', '13', '14', '15', '16', '17', '18', '19', '20', '21', '22',\n",
       "       '23', '24', '25', '26', '27', '28', '29', '30', '31',\n",
       "       'Sidi-Bel Abbes Region Dataset', 'day'], dtype=object)"
      ]
     },
     "execution_count": 38,
     "metadata": {},
     "output_type": "execute_result"
    }
   ],
   "source": [
    "df3['day'].unique()"
   ]
  },
  {
   "cell_type": "code",
   "execution_count": 39,
   "id": "7206140e",
   "metadata": {},
   "outputs": [
    {
     "data": {
      "text/html": [
       "<div>\n",
       "<style scoped>\n",
       "    .dataframe tbody tr th:only-of-type {\n",
       "        vertical-align: middle;\n",
       "    }\n",
       "\n",
       "    .dataframe tbody tr th {\n",
       "        vertical-align: top;\n",
       "    }\n",
       "\n",
       "    .dataframe thead th {\n",
       "        text-align: right;\n",
       "    }\n",
       "</style>\n",
       "<table border=\"1\" class=\"dataframe\">\n",
       "  <thead>\n",
       "    <tr style=\"text-align: right;\">\n",
       "      <th></th>\n",
       "      <th>day</th>\n",
       "      <th>month</th>\n",
       "      <th>year</th>\n",
       "      <th>Temperature</th>\n",
       "      <th>RH</th>\n",
       "      <th>Ws</th>\n",
       "      <th>Rain</th>\n",
       "      <th>FFMC</th>\n",
       "      <th>DMC</th>\n",
       "      <th>DC</th>\n",
       "      <th>ISI</th>\n",
       "      <th>BUI</th>\n",
       "      <th>FWI</th>\n",
       "      <th>Classes</th>\n",
       "    </tr>\n",
       "  </thead>\n",
       "  <tbody>\n",
       "    <tr>\n",
       "      <th>123</th>\n",
       "      <td>day</td>\n",
       "      <td>month</td>\n",
       "      <td>year</td>\n",
       "      <td>Temperature</td>\n",
       "      <td>RH</td>\n",
       "      <td>Ws</td>\n",
       "      <td>Rain</td>\n",
       "      <td>FFMC</td>\n",
       "      <td>DMC</td>\n",
       "      <td>DC</td>\n",
       "      <td>ISI</td>\n",
       "      <td>BUI</td>\n",
       "      <td>FWI</td>\n",
       "      <td>Classes</td>\n",
       "    </tr>\n",
       "  </tbody>\n",
       "</table>\n",
       "</div>"
      ],
      "text/plain": [
       "     day  month  year  Temperature   RH   Ws   Rain  FFMC  DMC  DC  ISI  BUI  \\\n",
       "123  day  month  year  Temperature   RH   Ws  Rain   FFMC  DMC  DC  ISI  BUI   \n",
       "\n",
       "     FWI  Classes  \n",
       "123  FWI  Classes  "
      ]
     },
     "execution_count": 39,
     "metadata": {},
     "output_type": "execute_result"
    }
   ],
   "source": [
    "df3[df3['day']=='day']"
   ]
  },
  {
   "cell_type": "code",
   "execution_count": 40,
   "id": "e6b3e157",
   "metadata": {},
   "outputs": [],
   "source": [
    "df3.drop(df3[df3['day']=='day'].index, inplace=True)"
   ]
  },
  {
   "cell_type": "code",
   "execution_count": 41,
   "id": "bb92c4c5",
   "metadata": {},
   "outputs": [],
   "source": [
    "df3.drop(df3[df3['day']== 'Sidi-Bel Abbes Region Dataset'].index, inplace=True)"
   ]
  },
  {
   "cell_type": "code",
   "execution_count": 42,
   "id": "76172aa4",
   "metadata": {},
   "outputs": [
    {
     "data": {
      "text/plain": [
       "array(['01', '02', '03', '04', '05', '06', '07', '08', '09', '10', '11',\n",
       "       '12', '13', '14', '15', '16', '17', '18', '19', '20', '21', '22',\n",
       "       '23', '24', '25', '26', '27', '28', '29', '30', '31'], dtype=object)"
      ]
     },
     "execution_count": 42,
     "metadata": {},
     "output_type": "execute_result"
    }
   ],
   "source": [
    "df3['day'].unique()"
   ]
  },
  {
   "cell_type": "code",
   "execution_count": 43,
   "id": "9329ff67",
   "metadata": {},
   "outputs": [
    {
     "data": {
      "text/html": [
       "<div>\n",
       "<style scoped>\n",
       "    .dataframe tbody tr th:only-of-type {\n",
       "        vertical-align: middle;\n",
       "    }\n",
       "\n",
       "    .dataframe tbody tr th {\n",
       "        vertical-align: top;\n",
       "    }\n",
       "\n",
       "    .dataframe thead th {\n",
       "        text-align: right;\n",
       "    }\n",
       "</style>\n",
       "<table border=\"1\" class=\"dataframe\">\n",
       "  <thead>\n",
       "    <tr style=\"text-align: right;\">\n",
       "      <th></th>\n",
       "      <th>day</th>\n",
       "      <th>month</th>\n",
       "      <th>year</th>\n",
       "      <th>Temperature</th>\n",
       "      <th>RH</th>\n",
       "      <th>Ws</th>\n",
       "      <th>Rain</th>\n",
       "      <th>FFMC</th>\n",
       "      <th>DMC</th>\n",
       "      <th>DC</th>\n",
       "      <th>ISI</th>\n",
       "      <th>BUI</th>\n",
       "      <th>FWI</th>\n",
       "      <th>Classes</th>\n",
       "    </tr>\n",
       "  </thead>\n",
       "  <tbody>\n",
       "    <tr>\n",
       "      <th>167</th>\n",
       "      <td>14</td>\n",
       "      <td>07</td>\n",
       "      <td>2012</td>\n",
       "      <td>37</td>\n",
       "      <td>37</td>\n",
       "      <td>18</td>\n",
       "      <td>0.2</td>\n",
       "      <td>88.9</td>\n",
       "      <td>12.9</td>\n",
       "      <td>14.69</td>\n",
       "      <td>12.5</td>\n",
       "      <td>10.4</td>\n",
       "      <td>fire</td>\n",
       "      <td>NaN</td>\n",
       "    </tr>\n",
       "  </tbody>\n",
       "</table>\n",
       "</div>"
      ],
      "text/plain": [
       "    day month  year Temperature  RH  Ws Rain  FFMC   DMC     DC   ISI   BUI  \\\n",
       "167  14    07  2012          37  37  18  0.2  88.9  12.9  14.69  12.5  10.4   \n",
       "\n",
       "      FWI Classes  \n",
       "167  fire     NaN  "
      ]
     },
     "execution_count": 43,
     "metadata": {},
     "output_type": "execute_result"
    }
   ],
   "source": [
    "df3[df3['Classes'].isna()]"
   ]
  },
  {
   "cell_type": "code",
   "execution_count": 44,
   "id": "13391913",
   "metadata": {},
   "outputs": [
    {
     "data": {
      "text/html": [
       "<div>\n",
       "<style scoped>\n",
       "    .dataframe tbody tr th:only-of-type {\n",
       "        vertical-align: middle;\n",
       "    }\n",
       "\n",
       "    .dataframe tbody tr th {\n",
       "        vertical-align: top;\n",
       "    }\n",
       "\n",
       "    .dataframe thead th {\n",
       "        text-align: right;\n",
       "    }\n",
       "</style>\n",
       "<table border=\"1\" class=\"dataframe\">\n",
       "  <thead>\n",
       "    <tr style=\"text-align: right;\">\n",
       "      <th></th>\n",
       "      <th>day</th>\n",
       "      <th>month</th>\n",
       "      <th>year</th>\n",
       "      <th>Temperature</th>\n",
       "      <th>RH</th>\n",
       "      <th>Ws</th>\n",
       "      <th>Rain</th>\n",
       "      <th>FFMC</th>\n",
       "      <th>DMC</th>\n",
       "      <th>DC</th>\n",
       "      <th>ISI</th>\n",
       "      <th>BUI</th>\n",
       "      <th>FWI</th>\n",
       "      <th>Classes</th>\n",
       "    </tr>\n",
       "  </thead>\n",
       "  <tbody>\n",
       "    <tr>\n",
       "      <th>167</th>\n",
       "      <td>14</td>\n",
       "      <td>07</td>\n",
       "      <td>2012</td>\n",
       "      <td>37</td>\n",
       "      <td>37</td>\n",
       "      <td>18</td>\n",
       "      <td>0.2</td>\n",
       "      <td>88.9</td>\n",
       "      <td>12.9</td>\n",
       "      <td>14.69</td>\n",
       "      <td>12.5</td>\n",
       "      <td>10.4</td>\n",
       "      <td>fire</td>\n",
       "      <td>NaN</td>\n",
       "    </tr>\n",
       "  </tbody>\n",
       "</table>\n",
       "</div>"
      ],
      "text/plain": [
       "    day month  year Temperature  RH  Ws Rain  FFMC   DMC     DC   ISI   BUI  \\\n",
       "167  14    07  2012          37  37  18  0.2  88.9  12.9  14.69  12.5  10.4   \n",
       "\n",
       "      FWI Classes  \n",
       "167  fire     NaN  "
      ]
     },
     "execution_count": 44,
     "metadata": {},
     "output_type": "execute_result"
    }
   ],
   "source": [
    "df3[df3['FWI']=='fire']"
   ]
  },
  {
   "cell_type": "code",
   "execution_count": 45,
   "id": "c17e7292",
   "metadata": {},
   "outputs": [],
   "source": [
    "df5 = df3.copy()"
   ]
  },
  {
   "cell_type": "code",
   "execution_count": 46,
   "id": "62477575",
   "metadata": {},
   "outputs": [],
   "source": [
    "df5['FWI'].replace('fire',np.nan,inplace=True)"
   ]
  },
  {
   "cell_type": "code",
   "execution_count": 47,
   "id": "cf4f8104",
   "metadata": {},
   "outputs": [
    {
     "data": {
      "text/plain": [
       "nan"
      ]
     },
     "execution_count": 47,
     "metadata": {},
     "output_type": "execute_result"
    }
   ],
   "source": [
    "df5.loc[167].FWI"
   ]
  },
  {
   "cell_type": "code",
   "execution_count": 48,
   "id": "c19a7a42",
   "metadata": {},
   "outputs": [
    {
     "name": "stdout",
     "output_type": "stream",
     "text": [
      "<class 'pandas.core.frame.DataFrame'>\n",
      "Int64Index: 244 entries, 0 to 245\n",
      "Data columns (total 14 columns):\n",
      " #   Column       Non-Null Count  Dtype \n",
      "---  ------       --------------  ----- \n",
      " 0   day          244 non-null    object\n",
      " 1   month        244 non-null    object\n",
      " 2   year         244 non-null    object\n",
      " 3   Temperature  244 non-null    object\n",
      " 4   RH           244 non-null    object\n",
      " 5   Ws           244 non-null    object\n",
      " 6   Rain         244 non-null    object\n",
      " 7   FFMC         244 non-null    object\n",
      " 8   DMC          244 non-null    object\n",
      " 9   DC           244 non-null    object\n",
      " 10  ISI          244 non-null    object\n",
      " 11  BUI          244 non-null    object\n",
      " 12  FWI          243 non-null    object\n",
      " 13  Classes      243 non-null    object\n",
      "dtypes: object(14)\n",
      "memory usage: 36.7+ KB\n"
     ]
    }
   ],
   "source": [
    "df5.info()"
   ]
  },
  {
   "cell_type": "code",
   "execution_count": 49,
   "id": "63391443",
   "metadata": {},
   "outputs": [],
   "source": [
    "df5 = df5.astype({\"day\":int,\"month\":int,\"year\":int,\"Temperature\":int,'RH':int,\"Ws\":int,\"Rain\":float,\"FFMC\":float,'DC':float,\"ISI\":float,\"BUI\":float,\"FWI\":float,'DMC':float})"
   ]
  },
  {
   "cell_type": "markdown",
   "id": "bc38f416",
   "metadata": {},
   "source": [
    "## Dropping NA VALUE"
   ]
  },
  {
   "cell_type": "code",
   "execution_count": 50,
   "id": "407b266f",
   "metadata": {},
   "outputs": [],
   "source": [
    "df6 = df5.copy()"
   ]
  },
  {
   "cell_type": "code",
   "execution_count": 51,
   "id": "f762304e",
   "metadata": {},
   "outputs": [],
   "source": [
    "cols = [var for var in df6.columns if df6[var].isnull().mean()*100>0.03]"
   ]
  },
  {
   "cell_type": "code",
   "execution_count": 52,
   "id": "227febe2",
   "metadata": {},
   "outputs": [
    {
     "data": {
      "text/html": [
       "<div>\n",
       "<style scoped>\n",
       "    .dataframe tbody tr th:only-of-type {\n",
       "        vertical-align: middle;\n",
       "    }\n",
       "\n",
       "    .dataframe tbody tr th {\n",
       "        vertical-align: top;\n",
       "    }\n",
       "\n",
       "    .dataframe thead th {\n",
       "        text-align: right;\n",
       "    }\n",
       "</style>\n",
       "<table border=\"1\" class=\"dataframe\">\n",
       "  <thead>\n",
       "    <tr style=\"text-align: right;\">\n",
       "      <th></th>\n",
       "      <th>FWI</th>\n",
       "      <th>Classes</th>\n",
       "    </tr>\n",
       "  </thead>\n",
       "  <tbody>\n",
       "    <tr>\n",
       "      <th>41</th>\n",
       "      <td>0.9</td>\n",
       "      <td>not fire</td>\n",
       "    </tr>\n",
       "    <tr>\n",
       "      <th>245</th>\n",
       "      <td>0.5</td>\n",
       "      <td>not fire</td>\n",
       "    </tr>\n",
       "    <tr>\n",
       "      <th>208</th>\n",
       "      <td>26.9</td>\n",
       "      <td>fire</td>\n",
       "    </tr>\n",
       "    <tr>\n",
       "      <th>197</th>\n",
       "      <td>10.5</td>\n",
       "      <td>fire</td>\n",
       "    </tr>\n",
       "    <tr>\n",
       "      <th>63</th>\n",
       "      <td>0.8</td>\n",
       "      <td>not fire</td>\n",
       "    </tr>\n",
       "  </tbody>\n",
       "</table>\n",
       "</div>"
      ],
      "text/plain": [
       "      FWI   Classes\n",
       "41    0.9  not fire\n",
       "245   0.5  not fire\n",
       "208  26.9      fire\n",
       "197  10.5      fire\n",
       "63    0.8  not fire"
      ]
     },
     "execution_count": 52,
     "metadata": {},
     "output_type": "execute_result"
    }
   ],
   "source": [
    "df6[cols].sample(5)"
   ]
  },
  {
   "cell_type": "code",
   "execution_count": 53,
   "id": "ea5f3b0c",
   "metadata": {},
   "outputs": [],
   "source": [
    "new_df = df6[cols].dropna()"
   ]
  },
  {
   "cell_type": "code",
   "execution_count": 54,
   "id": "c7f3fffd",
   "metadata": {},
   "outputs": [
    {
     "data": {
      "text/html": [
       "<div>\n",
       "<style scoped>\n",
       "    .dataframe tbody tr th:only-of-type {\n",
       "        vertical-align: middle;\n",
       "    }\n",
       "\n",
       "    .dataframe tbody tr th {\n",
       "        vertical-align: top;\n",
       "    }\n",
       "\n",
       "    .dataframe thead th {\n",
       "        text-align: right;\n",
       "    }\n",
       "</style>\n",
       "<table border=\"1\" class=\"dataframe\">\n",
       "  <thead>\n",
       "    <tr style=\"text-align: right;\">\n",
       "      <th></th>\n",
       "      <th>FWI</th>\n",
       "      <th>Classes</th>\n",
       "    </tr>\n",
       "  </thead>\n",
       "  <tbody>\n",
       "    <tr>\n",
       "      <th>0</th>\n",
       "      <td>0.5</td>\n",
       "      <td>not fire</td>\n",
       "    </tr>\n",
       "    <tr>\n",
       "      <th>1</th>\n",
       "      <td>0.4</td>\n",
       "      <td>not fire</td>\n",
       "    </tr>\n",
       "    <tr>\n",
       "      <th>2</th>\n",
       "      <td>0.1</td>\n",
       "      <td>not fire</td>\n",
       "    </tr>\n",
       "    <tr>\n",
       "      <th>3</th>\n",
       "      <td>0.0</td>\n",
       "      <td>not fire</td>\n",
       "    </tr>\n",
       "    <tr>\n",
       "      <th>4</th>\n",
       "      <td>0.5</td>\n",
       "      <td>not fire</td>\n",
       "    </tr>\n",
       "    <tr>\n",
       "      <th>...</th>\n",
       "      <td>...</td>\n",
       "      <td>...</td>\n",
       "    </tr>\n",
       "    <tr>\n",
       "      <th>241</th>\n",
       "      <td>6.5</td>\n",
       "      <td>fire</td>\n",
       "    </tr>\n",
       "    <tr>\n",
       "      <th>242</th>\n",
       "      <td>0.0</td>\n",
       "      <td>not fire</td>\n",
       "    </tr>\n",
       "    <tr>\n",
       "      <th>243</th>\n",
       "      <td>0.2</td>\n",
       "      <td>not fire</td>\n",
       "    </tr>\n",
       "    <tr>\n",
       "      <th>244</th>\n",
       "      <td>0.7</td>\n",
       "      <td>not fire</td>\n",
       "    </tr>\n",
       "    <tr>\n",
       "      <th>245</th>\n",
       "      <td>0.5</td>\n",
       "      <td>not fire</td>\n",
       "    </tr>\n",
       "  </tbody>\n",
       "</table>\n",
       "<p>243 rows × 2 columns</p>\n",
       "</div>"
      ],
      "text/plain": [
       "     FWI   Classes\n",
       "0    0.5  not fire\n",
       "1    0.4  not fire\n",
       "2    0.1  not fire\n",
       "3    0.0  not fire\n",
       "4    0.5  not fire\n",
       "..   ...       ...\n",
       "241  6.5      fire\n",
       "242  0.0  not fire\n",
       "243  0.2  not fire\n",
       "244  0.7  not fire\n",
       "245  0.5  not fire\n",
       "\n",
       "[243 rows x 2 columns]"
      ]
     },
     "execution_count": 54,
     "metadata": {},
     "output_type": "execute_result"
    }
   ],
   "source": [
    "new_df"
   ]
  },
  {
   "cell_type": "code",
   "execution_count": 55,
   "id": "8c6f2d06",
   "metadata": {},
   "outputs": [
    {
     "data": {
      "text/plain": [
       "((244, 14), (243, 2))"
      ]
     },
     "execution_count": 55,
     "metadata": {},
     "output_type": "execute_result"
    }
   ],
   "source": [
    "df6.shape, new_df.shape"
   ]
  },
  {
   "cell_type": "code",
   "execution_count": 56,
   "id": "9ad43c18",
   "metadata": {},
   "outputs": [
    {
     "data": {
      "text/plain": [
       "array([[<AxesSubplot:title={'center':'FWI'}>]], dtype=object)"
      ]
     },
     "execution_count": 56,
     "metadata": {},
     "output_type": "execute_result"
    },
    {
     "data": {
      "image/png": "[encoded data removed]",
      "text/plain": [
       "<Figure size 864x864 with 1 Axes>"
      ]
     },
     "metadata": {
      "needs_background": "light"
     },
     "output_type": "display_data"
    }
   ],
   "source": [
    "new_df.hist(bins=50,density=True,figsize=(12,12))"
   ]
  },
  {
   "cell_type": "code",
   "execution_count": 57,
   "id": "fd120d61",
   "metadata": {},
   "outputs": [
    {
     "data": {
      "text/plain": [
       "<AxesSubplot:>"
      ]
     },
     "execution_count": 57,
     "metadata": {},
     "output_type": "execute_result"
    },
    {
     "data": {
      "image/png": "[encoded data removed]",
      "text/plain": [
       "<Figure size 864x864 with 1 Axes>"
      ]
     },
     "metadata": {
      "needs_background": "light"
     },
     "output_type": "display_data"
    }
   ],
   "source": [
    "fig= plt.figure()\n",
    "ax = fig.add_subplot(111)\n",
    "\n",
    "df6['FWI'].hist(bins=50,ax=ax,density=True,figsize=(12,12),color='red')\n",
    "new_df['FWI'].hist(bins=50,ax=ax,density=True,figsize=(12,12),color='green', alpha=0.8)"
   ]
  },
  {
   "cell_type": "code",
   "execution_count": 58,
   "id": "7af05a5a",
   "metadata": {},
   "outputs": [
    {
     "data": {
      "text/plain": [
       "<AxesSubplot:ylabel='Density'>"
      ]
     },
     "execution_count": 58,
     "metadata": {},
     "output_type": "execute_result"
    },
    {
     "data": {
      "image/png": "[encoded data removed]",
      "text/plain": [
       "<Figure size 432x288 with 1 Axes>"
      ]
     },
     "metadata": {
      "needs_background": "light"
     },
     "output_type": "display_data"
    }
   ],
   "source": [
    "fig= plt.figure()\n",
    "ax = fig.add_subplot(111)\n",
    "\n",
    "df6['FWI'].plot.density(color='red')\n",
    "new_df['FWI'].plot.density(color='green')"
   ]
  },
  {
   "cell_type": "code",
   "execution_count": 59,
   "id": "e8b1a48f",
   "metadata": {},
   "outputs": [
    {
     "data": {
      "text/plain": [
       "fire        137\n",
       "not fire    106\n",
       "Name: Classes, dtype: int64"
      ]
     },
     "execution_count": 59,
     "metadata": {},
     "output_type": "execute_result"
    }
   ],
   "source": [
    "df6['Classes'].value_counts()"
   ]
  },
  {
   "cell_type": "code",
   "execution_count": 60,
   "id": "3282b8a6",
   "metadata": {},
   "outputs": [
    {
     "data": {
      "text/html": [
       "<div>\n",
       "<style scoped>\n",
       "    .dataframe tbody tr th:only-of-type {\n",
       "        vertical-align: middle;\n",
       "    }\n",
       "\n",
       "    .dataframe tbody tr th {\n",
       "        vertical-align: top;\n",
       "    }\n",
       "\n",
       "    .dataframe thead th {\n",
       "        text-align: right;\n",
       "    }\n",
       "</style>\n",
       "<table border=\"1\" class=\"dataframe\">\n",
       "  <thead>\n",
       "    <tr style=\"text-align: right;\">\n",
       "      <th></th>\n",
       "      <th>original</th>\n",
       "      <th>cca</th>\n",
       "    </tr>\n",
       "  </thead>\n",
       "  <tbody>\n",
       "    <tr>\n",
       "      <th>fire</th>\n",
       "      <td>0.561475</td>\n",
       "      <td>0.563786</td>\n",
       "    </tr>\n",
       "    <tr>\n",
       "      <th>not fire</th>\n",
       "      <td>0.434426</td>\n",
       "      <td>0.436214</td>\n",
       "    </tr>\n",
       "  </tbody>\n",
       "</table>\n",
       "</div>"
      ],
      "text/plain": [
       "          original       cca\n",
       "fire      0.561475  0.563786\n",
       "not fire  0.434426  0.436214"
      ]
     },
     "execution_count": 60,
     "metadata": {},
     "output_type": "execute_result"
    }
   ],
   "source": [
    "temp = pd.concat([\n",
    "    # % of observations per category, original data \n",
    "    df6['Classes'].value_counts()/len(df6),\n",
    "    # % of observations per category, cca data \n",
    "    df6['Classes'].value_counts()/len(new_df)\n",
    "],axis=1)\n",
    "\n",
    "temp.columns=['original','cca']\n",
    "temp"
   ]
  },
  {
   "cell_type": "markdown",
   "id": "29ecf9dd",
   "metadata": {},
   "source": [
    "## MEAN/MEDAIN IMPUTATION"
   ]
  },
  {
   "cell_type": "code",
   "execution_count": 61,
   "id": "c78613d7",
   "metadata": {},
   "outputs": [
    {
     "data": {
      "text/plain": [
       "Index(['day', 'month', 'year', 'Temperature', 'RH', 'Ws', 'Rain', 'FFMC',\n",
       "       'DMC', 'DC', 'ISI', 'BUI', 'FWI', 'Classes'],\n",
       "      dtype='object')"
      ]
     },
     "execution_count": 61,
     "metadata": {},
     "output_type": "execute_result"
    }
   ],
   "source": [
    "df4 = df5.copy()\n",
    "df4.columns"
   ]
  },
  {
   "cell_type": "code",
   "execution_count": 62,
   "id": "592c1afb",
   "metadata": {},
   "outputs": [],
   "source": [
    "X = df4.drop(columns=['Classes'])\n",
    "y = df4['Classes']"
   ]
  },
  {
   "cell_type": "code",
   "execution_count": 63,
   "id": "c6386547",
   "metadata": {},
   "outputs": [],
   "source": [
    "X_train, X_test, y_train, y_test = train_test_split(X,y, test_size=0.2, random_state=2)"
   ]
  },
  {
   "cell_type": "code",
   "execution_count": 64,
   "id": "55e7b1fd",
   "metadata": {},
   "outputs": [
    {
     "data": {
      "text/plain": [
       "((195, 13), (49, 13))"
      ]
     },
     "execution_count": 64,
     "metadata": {},
     "output_type": "execute_result"
    }
   ],
   "source": [
    "X_train.shape, X_test.shape"
   ]
  },
  {
   "cell_type": "code",
   "execution_count": 65,
   "id": "68b247c8",
   "metadata": {},
   "outputs": [
    {
     "data": {
      "text/plain": [
       "day            0.000000\n",
       "month          0.000000\n",
       "year           0.000000\n",
       "Temperature    0.000000\n",
       "RH             0.000000\n",
       "Ws             0.000000\n",
       "Rain           0.000000\n",
       "FFMC           0.000000\n",
       "DMC            0.000000\n",
       "DC             0.000000\n",
       "ISI            0.000000\n",
       "BUI            0.000000\n",
       "FWI            0.512821\n",
       "dtype: float64"
      ]
     },
     "execution_count": 65,
     "metadata": {},
     "output_type": "execute_result"
    }
   ],
   "source": [
    "X_train.isnull().mean()*100"
   ]
  },
  {
   "cell_type": "code",
   "execution_count": 66,
   "id": "c513a67b",
   "metadata": {},
   "outputs": [],
   "source": [
    "mean_FWI = X_train['FWI'].mean()\n",
    "median_FWI = X_train['FWI'].median()"
   ]
  },
  {
   "cell_type": "code",
   "execution_count": 67,
   "id": "d5329c1d",
   "metadata": {},
   "outputs": [
    {
     "name": "stderr",
     "output_type": "stream",
     "text": [
      "/tmp/ipykernel_101202/3439803311.py:1: SettingWithCopyWarning: \n",
      "A value is trying to be set on a copy of a slice from a DataFrame.\n",
      "Try using .loc[row_indexer,col_indexer] = value instead\n",
      "\n",
      "See the caveats in the documentation: https://pandas.pydata.org/pandas-docs/stable/user_guide/indexing.html#returning-a-view-versus-a-copy\n",
      "  X_train['FWI_mean'] = X_train['FWI'].fillna(mean_FWI)\n",
      "/tmp/ipykernel_101202/3439803311.py:2: SettingWithCopyWarning: \n",
      "A value is trying to be set on a copy of a slice from a DataFrame.\n",
      "Try using .loc[row_indexer,col_indexer] = value instead\n",
      "\n",
      "See the caveats in the documentation: https://pandas.pydata.org/pandas-docs/stable/user_guide/indexing.html#returning-a-view-versus-a-copy\n",
      "  X_train['FWI_median'] = X_train['FWI'].fillna(median_FWI)\n"
     ]
    }
   ],
   "source": [
    "X_train['FWI_mean'] = X_train['FWI'].fillna(mean_FWI)\n",
    "X_train['FWI_median'] = X_train['FWI'].fillna(median_FWI)"
   ]
  },
  {
   "cell_type": "code",
   "execution_count": 68,
   "id": "2d91a0e7",
   "metadata": {},
   "outputs": [
    {
     "data": {
      "text/html": [
       "<div>\n",
       "<style scoped>\n",
       "    .dataframe tbody tr th:only-of-type {\n",
       "        vertical-align: middle;\n",
       "    }\n",
       "\n",
       "    .dataframe tbody tr th {\n",
       "        vertical-align: top;\n",
       "    }\n",
       "\n",
       "    .dataframe thead th {\n",
       "        text-align: right;\n",
       "    }\n",
       "</style>\n",
       "<table border=\"1\" class=\"dataframe\">\n",
       "  <thead>\n",
       "    <tr style=\"text-align: right;\">\n",
       "      <th></th>\n",
       "      <th>day</th>\n",
       "      <th>month</th>\n",
       "      <th>year</th>\n",
       "      <th>Temperature</th>\n",
       "      <th>RH</th>\n",
       "      <th>Ws</th>\n",
       "      <th>Rain</th>\n",
       "      <th>FFMC</th>\n",
       "      <th>DMC</th>\n",
       "      <th>DC</th>\n",
       "      <th>ISI</th>\n",
       "      <th>BUI</th>\n",
       "      <th>FWI</th>\n",
       "      <th>FWI_mean</th>\n",
       "      <th>FWI_median</th>\n",
       "    </tr>\n",
       "  </thead>\n",
       "  <tbody>\n",
       "    <tr>\n",
       "      <th>191</th>\n",
       "      <td>7</td>\n",
       "      <td>8</td>\n",
       "      <td>2012</td>\n",
       "      <td>34</td>\n",
       "      <td>63</td>\n",
       "      <td>13</td>\n",
       "      <td>2.9</td>\n",
       "      <td>69.7</td>\n",
       "      <td>7.2</td>\n",
       "      <td>9.8</td>\n",
       "      <td>1.2</td>\n",
       "      <td>6.9</td>\n",
       "      <td>0.6</td>\n",
       "      <td>0.6</td>\n",
       "      <td>0.6</td>\n",
       "    </tr>\n",
       "    <tr>\n",
       "      <th>172</th>\n",
       "      <td>19</td>\n",
       "      <td>7</td>\n",
       "      <td>2012</td>\n",
       "      <td>34</td>\n",
       "      <td>58</td>\n",
       "      <td>16</td>\n",
       "      <td>0.0</td>\n",
       "      <td>88.1</td>\n",
       "      <td>27.8</td>\n",
       "      <td>61.1</td>\n",
       "      <td>7.3</td>\n",
       "      <td>27.7</td>\n",
       "      <td>13.0</td>\n",
       "      <td>13.0</td>\n",
       "      <td>13.0</td>\n",
       "    </tr>\n",
       "    <tr>\n",
       "      <th>40</th>\n",
       "      <td>11</td>\n",
       "      <td>7</td>\n",
       "      <td>2012</td>\n",
       "      <td>33</td>\n",
       "      <td>76</td>\n",
       "      <td>14</td>\n",
       "      <td>0.0</td>\n",
       "      <td>81.1</td>\n",
       "      <td>8.1</td>\n",
       "      <td>18.7</td>\n",
       "      <td>2.6</td>\n",
       "      <td>8.1</td>\n",
       "      <td>2.2</td>\n",
       "      <td>2.2</td>\n",
       "      <td>2.2</td>\n",
       "    </tr>\n",
       "    <tr>\n",
       "      <th>176</th>\n",
       "      <td>23</td>\n",
       "      <td>7</td>\n",
       "      <td>2012</td>\n",
       "      <td>31</td>\n",
       "      <td>71</td>\n",
       "      <td>17</td>\n",
       "      <td>0.0</td>\n",
       "      <td>87.3</td>\n",
       "      <td>46.6</td>\n",
       "      <td>99.0</td>\n",
       "      <td>6.9</td>\n",
       "      <td>46.5</td>\n",
       "      <td>16.3</td>\n",
       "      <td>16.3</td>\n",
       "      <td>16.3</td>\n",
       "    </tr>\n",
       "    <tr>\n",
       "      <th>175</th>\n",
       "      <td>22</td>\n",
       "      <td>7</td>\n",
       "      <td>2012</td>\n",
       "      <td>32</td>\n",
       "      <td>48</td>\n",
       "      <td>18</td>\n",
       "      <td>0.0</td>\n",
       "      <td>91.5</td>\n",
       "      <td>44.2</td>\n",
       "      <td>90.1</td>\n",
       "      <td>13.2</td>\n",
       "      <td>44.0</td>\n",
       "      <td>25.4</td>\n",
       "      <td>25.4</td>\n",
       "      <td>25.4</td>\n",
       "    </tr>\n",
       "  </tbody>\n",
       "</table>\n",
       "</div>"
      ],
      "text/plain": [
       "     day  month  year  Temperature  RH  Ws  Rain  FFMC   DMC    DC   ISI  \\\n",
       "191    7      8  2012           34  63  13   2.9  69.7   7.2   9.8   1.2   \n",
       "172   19      7  2012           34  58  16   0.0  88.1  27.8  61.1   7.3   \n",
       "40    11      7  2012           33  76  14   0.0  81.1   8.1  18.7   2.6   \n",
       "176   23      7  2012           31  71  17   0.0  87.3  46.6  99.0   6.9   \n",
       "175   22      7  2012           32  48  18   0.0  91.5  44.2  90.1  13.2   \n",
       "\n",
       "      BUI   FWI  FWI_mean  FWI_median  \n",
       "191   6.9   0.6       0.6         0.6  \n",
       "172  27.7  13.0      13.0        13.0  \n",
       "40    8.1   2.2       2.2         2.2  \n",
       "176  46.5  16.3      16.3        16.3  \n",
       "175  44.0  25.4      25.4        25.4  "
      ]
     },
     "execution_count": 68,
     "metadata": {},
     "output_type": "execute_result"
    }
   ],
   "source": [
    "X_train.sample(5)"
   ]
  },
  {
   "cell_type": "code",
   "execution_count": 69,
   "id": "cdd2e080",
   "metadata": {},
   "outputs": [
    {
     "name": "stdout",
     "output_type": "stream",
     "text": [
      "Original FMI Variance 55.77235644463442\n",
      "FMI Variance After mean imputation 55.48487007120847\n",
      "FMI Variance After mdeian imputation 55.5132154374835\n"
     ]
    }
   ],
   "source": [
    "print('Original FMI Variance', X_train['FWI'].var())\n",
    "print('FMI Variance After mean imputation', X_train['FWI_mean'].var())\n",
    "print('FMI Variance After mdeian imputation', X_train['FWI_median'].var())"
   ]
  },
  {
   "cell_type": "code",
   "execution_count": 70,
   "id": "2764dd42",
   "metadata": {},
   "outputs": [
    {
     "data": {
      "text/plain": [
       "<matplotlib.legend.Legend at 0x7fb2399f4940>"
      ]
     },
     "execution_count": 70,
     "metadata": {},
     "output_type": "execute_result"
    },
    {
     "data": {
      "image/png": "[encoded data removed]",
      "text/plain": [
       "<Figure size 432x288 with 1 Axes>"
      ]
     },
     "metadata": {
      "needs_background": "light"
     },
     "output_type": "display_data"
    }
   ],
   "source": [
    "fig= plt.figure()\n",
    "ax = fig.add_subplot(111)\n",
    "X_train['FWI'].plot(kind='kde', ax= ax)\n",
    "X_train['FWI_mean'].plot(kind='kde', ax= ax,color='red')\n",
    "X_train['FWI_median'].plot(kind='kde', ax= ax,color='green')\n",
    "#Add legends\n",
    "lines,labels = ax.get_legend_handles_labels()\n",
    "ax.legend(lines, labels,loc='best')"
   ]
  },
  {
   "cell_type": "code",
   "execution_count": 71,
   "id": "8f66c3b4",
   "metadata": {},
   "outputs": [
    {
     "data": {
      "text/html": [
       "<div>\n",
       "<style scoped>\n",
       "    .dataframe tbody tr th:only-of-type {\n",
       "        vertical-align: middle;\n",
       "    }\n",
       "\n",
       "    .dataframe tbody tr th {\n",
       "        vertical-align: top;\n",
       "    }\n",
       "\n",
       "    .dataframe thead th {\n",
       "        text-align: right;\n",
       "    }\n",
       "</style>\n",
       "<table border=\"1\" class=\"dataframe\">\n",
       "  <thead>\n",
       "    <tr style=\"text-align: right;\">\n",
       "      <th></th>\n",
       "      <th>day</th>\n",
       "      <th>month</th>\n",
       "      <th>year</th>\n",
       "      <th>Temperature</th>\n",
       "      <th>RH</th>\n",
       "      <th>Ws</th>\n",
       "      <th>Rain</th>\n",
       "      <th>FFMC</th>\n",
       "      <th>DMC</th>\n",
       "      <th>DC</th>\n",
       "      <th>ISI</th>\n",
       "      <th>BUI</th>\n",
       "      <th>FWI</th>\n",
       "      <th>FWI_mean</th>\n",
       "      <th>FWI_median</th>\n",
       "    </tr>\n",
       "  </thead>\n",
       "  <tbody>\n",
       "    <tr>\n",
       "      <th>day</th>\n",
       "      <td>74.661750</td>\n",
       "      <td>0.130716</td>\n",
       "      <td>0.0</td>\n",
       "      <td>1.298625</td>\n",
       "      <td>-2.585329</td>\n",
       "      <td>0.514354</td>\n",
       "      <td>-1.021409</td>\n",
       "      <td>19.795586</td>\n",
       "      <td>49.576558</td>\n",
       "      <td>199.190277</td>\n",
       "      <td>4.541959</td>\n",
       "      <td>59.302363</td>\n",
       "      <td>19.843830</td>\n",
       "      <td>19.741543</td>\n",
       "      <td>19.765096</td>\n",
       "    </tr>\n",
       "    <tr>\n",
       "      <th>month</th>\n",
       "      <td>0.130716</td>\n",
       "      <td>1.209886</td>\n",
       "      <td>0.0</td>\n",
       "      <td>-0.378007</td>\n",
       "      <td>-0.089215</td>\n",
       "      <td>-0.037272</td>\n",
       "      <td>0.081615</td>\n",
       "      <td>-0.391303</td>\n",
       "      <td>0.789611</td>\n",
       "      <td>7.000276</td>\n",
       "      <td>0.223711</td>\n",
       "      <td>1.248850</td>\n",
       "      <td>0.606487</td>\n",
       "      <td>0.603361</td>\n",
       "      <td>0.609265</td>\n",
       "    </tr>\n",
       "    <tr>\n",
       "      <th>year</th>\n",
       "      <td>0.000000</td>\n",
       "      <td>0.000000</td>\n",
       "      <td>0.0</td>\n",
       "      <td>0.000000</td>\n",
       "      <td>0.000000</td>\n",
       "      <td>0.000000</td>\n",
       "      <td>0.000000</td>\n",
       "      <td>0.000000</td>\n",
       "      <td>0.000000</td>\n",
       "      <td>0.000000</td>\n",
       "      <td>0.000000</td>\n",
       "      <td>0.000000</td>\n",
       "      <td>0.000000</td>\n",
       "      <td>0.000000</td>\n",
       "      <td>0.000000</td>\n",
       "    </tr>\n",
       "    <tr>\n",
       "      <th>Temperature</th>\n",
       "      <td>1.298625</td>\n",
       "      <td>-0.378007</td>\n",
       "      <td>0.0</td>\n",
       "      <td>14.268729</td>\n",
       "      <td>-38.325773</td>\n",
       "      <td>-3.225773</td>\n",
       "      <td>-2.322646</td>\n",
       "      <td>36.093127</td>\n",
       "      <td>21.373608</td>\n",
       "      <td>62.221543</td>\n",
       "      <td>9.816598</td>\n",
       "      <td>22.997216</td>\n",
       "      <td>15.777728</td>\n",
       "      <td>15.696400</td>\n",
       "      <td>15.639038</td>\n",
       "    </tr>\n",
       "    <tr>\n",
       "      <th>RH</th>\n",
       "      <td>-2.585329</td>\n",
       "      <td>-0.089215</td>\n",
       "      <td>0.0</td>\n",
       "      <td>-38.325773</td>\n",
       "      <td>238.683743</td>\n",
       "      <td>12.106106</td>\n",
       "      <td>6.454845</td>\n",
       "      <td>-143.768676</td>\n",
       "      <td>-74.422308</td>\n",
       "      <td>-140.849925</td>\n",
       "      <td>-46.862784</td>\n",
       "      <td>-71.508255</td>\n",
       "      <td>-68.242802</td>\n",
       "      <td>-67.891035</td>\n",
       "      <td>-67.591983</td>\n",
       "    </tr>\n",
       "    <tr>\n",
       "      <th>Ws</th>\n",
       "      <td>0.514354</td>\n",
       "      <td>-0.037272</td>\n",
       "      <td>0.0</td>\n",
       "      <td>-3.225773</td>\n",
       "      <td>12.106106</td>\n",
       "      <td>8.465662</td>\n",
       "      <td>1.400825</td>\n",
       "      <td>-7.870579</td>\n",
       "      <td>-0.898509</td>\n",
       "      <td>6.764164</td>\n",
       "      <td>0.127732</td>\n",
       "      <td>0.197906</td>\n",
       "      <td>0.461196</td>\n",
       "      <td>0.458819</td>\n",
       "      <td>0.431039</td>\n",
       "    </tr>\n",
       "    <tr>\n",
       "      <th>Rain</th>\n",
       "      <td>-1.021409</td>\n",
       "      <td>0.081615</td>\n",
       "      <td>0.0</td>\n",
       "      <td>-2.322646</td>\n",
       "      <td>6.454845</td>\n",
       "      <td>1.400825</td>\n",
       "      <td>3.874976</td>\n",
       "      <td>-14.375189</td>\n",
       "      <td>-6.657969</td>\n",
       "      <td>-26.322183</td>\n",
       "      <td>-2.791567</td>\n",
       "      <td>-7.911144</td>\n",
       "      <td>-4.634757</td>\n",
       "      <td>-4.610867</td>\n",
       "      <td>-4.604646</td>\n",
       "    </tr>\n",
       "    <tr>\n",
       "      <th>FFMC</th>\n",
       "      <td>19.795586</td>\n",
       "      <td>-0.391303</td>\n",
       "      <td>0.0</td>\n",
       "      <td>36.093127</td>\n",
       "      <td>-143.768676</td>\n",
       "      <td>-7.870579</td>\n",
       "      <td>-14.375189</td>\n",
       "      <td>202.041932</td>\n",
       "      <td>105.448731</td>\n",
       "      <td>330.633208</td>\n",
       "      <td>45.483351</td>\n",
       "      <td>117.605519</td>\n",
       "      <td>74.753767</td>\n",
       "      <td>74.368438</td>\n",
       "      <td>74.238706</td>\n",
       "    </tr>\n",
       "    <tr>\n",
       "      <th>DMC</th>\n",
       "      <td>49.576558</td>\n",
       "      <td>0.789611</td>\n",
       "      <td>0.0</td>\n",
       "      <td>21.373608</td>\n",
       "      <td>-74.422308</td>\n",
       "      <td>-0.898509</td>\n",
       "      <td>-6.657969</td>\n",
       "      <td>105.448731</td>\n",
       "      <td>146.873467</td>\n",
       "      <td>486.350116</td>\n",
       "      <td>34.489134</td>\n",
       "      <td>164.321561</td>\n",
       "      <td>78.092254</td>\n",
       "      <td>77.689717</td>\n",
       "      <td>77.715334</td>\n",
       "    </tr>\n",
       "    <tr>\n",
       "      <th>DC</th>\n",
       "      <td>199.190277</td>\n",
       "      <td>7.000276</td>\n",
       "      <td>0.0</td>\n",
       "      <td>62.221543</td>\n",
       "      <td>-140.849925</td>\n",
       "      <td>6.764164</td>\n",
       "      <td>-26.322183</td>\n",
       "      <td>330.633208</td>\n",
       "      <td>486.350116</td>\n",
       "      <td>2127.433949</td>\n",
       "      <td>93.227414</td>\n",
       "      <td>598.158096</td>\n",
       "      <td>244.759426</td>\n",
       "      <td>243.497780</td>\n",
       "      <td>243.919625</td>\n",
       "    </tr>\n",
       "    <tr>\n",
       "      <th>ISI</th>\n",
       "      <td>4.541959</td>\n",
       "      <td>0.223711</td>\n",
       "      <td>0.0</td>\n",
       "      <td>9.816598</td>\n",
       "      <td>-46.862784</td>\n",
       "      <td>0.127732</td>\n",
       "      <td>-2.791567</td>\n",
       "      <td>45.483351</td>\n",
       "      <td>34.489134</td>\n",
       "      <td>93.227414</td>\n",
       "      <td>18.736227</td>\n",
       "      <td>36.788732</td>\n",
       "      <td>29.708963</td>\n",
       "      <td>29.555824</td>\n",
       "      <td>29.464206</td>\n",
       "    </tr>\n",
       "    <tr>\n",
       "      <th>BUI</th>\n",
       "      <td>59.302363</td>\n",
       "      <td>1.248850</td>\n",
       "      <td>0.0</td>\n",
       "      <td>22.997216</td>\n",
       "      <td>-71.508255</td>\n",
       "      <td>0.197906</td>\n",
       "      <td>-7.911144</td>\n",
       "      <td>117.605519</td>\n",
       "      <td>164.321561</td>\n",
       "      <td>598.158096</td>\n",
       "      <td>36.788732</td>\n",
       "      <td>191.048595</td>\n",
       "      <td>86.812244</td>\n",
       "      <td>86.364758</td>\n",
       "      <td>86.444145</td>\n",
       "    </tr>\n",
       "    <tr>\n",
       "      <th>FWI</th>\n",
       "      <td>19.843830</td>\n",
       "      <td>0.606487</td>\n",
       "      <td>0.0</td>\n",
       "      <td>15.777728</td>\n",
       "      <td>-68.242802</td>\n",
       "      <td>0.461196</td>\n",
       "      <td>-4.634757</td>\n",
       "      <td>74.753767</td>\n",
       "      <td>78.092254</td>\n",
       "      <td>244.759426</td>\n",
       "      <td>29.708963</td>\n",
       "      <td>86.812244</td>\n",
       "      <td>55.772356</td>\n",
       "      <td>55.772356</td>\n",
       "      <td>55.772356</td>\n",
       "    </tr>\n",
       "    <tr>\n",
       "      <th>FWI_mean</th>\n",
       "      <td>19.741543</td>\n",
       "      <td>0.603361</td>\n",
       "      <td>0.0</td>\n",
       "      <td>15.696400</td>\n",
       "      <td>-67.891035</td>\n",
       "      <td>0.458819</td>\n",
       "      <td>-4.610867</td>\n",
       "      <td>74.368438</td>\n",
       "      <td>77.689717</td>\n",
       "      <td>243.497780</td>\n",
       "      <td>29.555824</td>\n",
       "      <td>86.364758</td>\n",
       "      <td>55.772356</td>\n",
       "      <td>55.484870</td>\n",
       "      <td>55.484870</td>\n",
       "    </tr>\n",
       "    <tr>\n",
       "      <th>FWI_median</th>\n",
       "      <td>19.765096</td>\n",
       "      <td>0.609265</td>\n",
       "      <td>0.0</td>\n",
       "      <td>15.639038</td>\n",
       "      <td>-67.591983</td>\n",
       "      <td>0.431039</td>\n",
       "      <td>-4.604646</td>\n",
       "      <td>74.238706</td>\n",
       "      <td>77.715334</td>\n",
       "      <td>243.919625</td>\n",
       "      <td>29.464206</td>\n",
       "      <td>86.444145</td>\n",
       "      <td>55.772356</td>\n",
       "      <td>55.484870</td>\n",
       "      <td>55.513215</td>\n",
       "    </tr>\n",
       "  </tbody>\n",
       "</table>\n",
       "</div>"
      ],
      "text/plain": [
       "                    day     month  year  Temperature          RH         Ws  \\\n",
       "day           74.661750  0.130716   0.0     1.298625   -2.585329   0.514354   \n",
       "month          0.130716  1.209886   0.0    -0.378007   -0.089215  -0.037272   \n",
       "year           0.000000  0.000000   0.0     0.000000    0.000000   0.000000   \n",
       "Temperature    1.298625 -0.378007   0.0    14.268729  -38.325773  -3.225773   \n",
       "RH            -2.585329 -0.089215   0.0   -38.325773  238.683743  12.106106   \n",
       "Ws             0.514354 -0.037272   0.0    -3.225773   12.106106   8.465662   \n",
       "Rain          -1.021409  0.081615   0.0    -2.322646    6.454845   1.400825   \n",
       "FFMC          19.795586 -0.391303   0.0    36.093127 -143.768676  -7.870579   \n",
       "DMC           49.576558  0.789611   0.0    21.373608  -74.422308  -0.898509   \n",
       "DC           199.190277  7.000276   0.0    62.221543 -140.849925   6.764164   \n",
       "ISI            4.541959  0.223711   0.0     9.816598  -46.862784   0.127732   \n",
       "BUI           59.302363  1.248850   0.0    22.997216  -71.508255   0.197906   \n",
       "FWI           19.843830  0.606487   0.0    15.777728  -68.242802   0.461196   \n",
       "FWI_mean      19.741543  0.603361   0.0    15.696400  -67.891035   0.458819   \n",
       "FWI_median    19.765096  0.609265   0.0    15.639038  -67.591983   0.431039   \n",
       "\n",
       "                  Rain        FFMC         DMC           DC        ISI  \\\n",
       "day          -1.021409   19.795586   49.576558   199.190277   4.541959   \n",
       "month         0.081615   -0.391303    0.789611     7.000276   0.223711   \n",
       "year          0.000000    0.000000    0.000000     0.000000   0.000000   \n",
       "Temperature  -2.322646   36.093127   21.373608    62.221543   9.816598   \n",
       "RH            6.454845 -143.768676  -74.422308  -140.849925 -46.862784   \n",
       "Ws            1.400825   -7.870579   -0.898509     6.764164   0.127732   \n",
       "Rain          3.874976  -14.375189   -6.657969   -26.322183  -2.791567   \n",
       "FFMC        -14.375189  202.041932  105.448731   330.633208  45.483351   \n",
       "DMC          -6.657969  105.448731  146.873467   486.350116  34.489134   \n",
       "DC          -26.322183  330.633208  486.350116  2127.433949  93.227414   \n",
       "ISI          -2.791567   45.483351   34.489134    93.227414  18.736227   \n",
       "BUI          -7.911144  117.605519  164.321561   598.158096  36.788732   \n",
       "FWI          -4.634757   74.753767   78.092254   244.759426  29.708963   \n",
       "FWI_mean     -4.610867   74.368438   77.689717   243.497780  29.555824   \n",
       "FWI_median   -4.604646   74.238706   77.715334   243.919625  29.464206   \n",
       "\n",
       "                    BUI         FWI    FWI_mean  FWI_median  \n",
       "day           59.302363   19.843830   19.741543   19.765096  \n",
       "month          1.248850    0.606487    0.603361    0.609265  \n",
       "year           0.000000    0.000000    0.000000    0.000000  \n",
       "Temperature   22.997216   15.777728   15.696400   15.639038  \n",
       "RH           -71.508255  -68.242802  -67.891035  -67.591983  \n",
       "Ws             0.197906    0.461196    0.458819    0.431039  \n",
       "Rain          -7.911144   -4.634757   -4.610867   -4.604646  \n",
       "FFMC         117.605519   74.753767   74.368438   74.238706  \n",
       "DMC          164.321561   78.092254   77.689717   77.715334  \n",
       "DC           598.158096  244.759426  243.497780  243.919625  \n",
       "ISI           36.788732   29.708963   29.555824   29.464206  \n",
       "BUI          191.048595   86.812244   86.364758   86.444145  \n",
       "FWI           86.812244   55.772356   55.772356   55.772356  \n",
       "FWI_mean      86.364758   55.772356   55.484870   55.484870  \n",
       "FWI_median    86.444145   55.772356   55.484870   55.513215  "
      ]
     },
     "execution_count": 71,
     "metadata": {},
     "output_type": "execute_result"
    }
   ],
   "source": [
    "X_train.cov()"
   ]
  },
  {
   "cell_type": "code",
   "execution_count": 72,
   "id": "3ea8ad3d",
   "metadata": {},
   "outputs": [
    {
     "data": {
      "text/html": [
       "<div>\n",
       "<style scoped>\n",
       "    .dataframe tbody tr th:only-of-type {\n",
       "        vertical-align: middle;\n",
       "    }\n",
       "\n",
       "    .dataframe tbody tr th {\n",
       "        vertical-align: top;\n",
       "    }\n",
       "\n",
       "    .dataframe thead th {\n",
       "        text-align: right;\n",
       "    }\n",
       "</style>\n",
       "<table border=\"1\" class=\"dataframe\">\n",
       "  <thead>\n",
       "    <tr style=\"text-align: right;\">\n",
       "      <th></th>\n",
       "      <th>day</th>\n",
       "      <th>month</th>\n",
       "      <th>year</th>\n",
       "      <th>Temperature</th>\n",
       "      <th>RH</th>\n",
       "      <th>Ws</th>\n",
       "      <th>Rain</th>\n",
       "      <th>FFMC</th>\n",
       "      <th>DMC</th>\n",
       "      <th>DC</th>\n",
       "      <th>ISI</th>\n",
       "      <th>BUI</th>\n",
       "      <th>FWI</th>\n",
       "      <th>FWI_mean</th>\n",
       "      <th>FWI_median</th>\n",
       "    </tr>\n",
       "  </thead>\n",
       "  <tbody>\n",
       "    <tr>\n",
       "      <th>day</th>\n",
       "      <td>1.000000</td>\n",
       "      <td>0.013753</td>\n",
       "      <td>NaN</td>\n",
       "      <td>0.039787</td>\n",
       "      <td>-0.019367</td>\n",
       "      <td>0.020459</td>\n",
       "      <td>-0.060050</td>\n",
       "      <td>0.161175</td>\n",
       "      <td>0.473430</td>\n",
       "      <td>0.499794</td>\n",
       "      <td>0.121438</td>\n",
       "      <td>0.496536</td>\n",
       "      <td>0.306762</td>\n",
       "      <td>0.306722</td>\n",
       "      <td>0.307009</td>\n",
       "    </tr>\n",
       "    <tr>\n",
       "      <th>month</th>\n",
       "      <td>0.013753</td>\n",
       "      <td>1.000000</td>\n",
       "      <td>NaN</td>\n",
       "      <td>-0.090978</td>\n",
       "      <td>-0.005250</td>\n",
       "      <td>-0.011646</td>\n",
       "      <td>0.037693</td>\n",
       "      <td>-0.025028</td>\n",
       "      <td>0.059234</td>\n",
       "      <td>0.137980</td>\n",
       "      <td>0.046987</td>\n",
       "      <td>0.082142</td>\n",
       "      <td>0.073678</td>\n",
       "      <td>0.073641</td>\n",
       "      <td>0.074342</td>\n",
       "    </tr>\n",
       "    <tr>\n",
       "      <th>year</th>\n",
       "      <td>NaN</td>\n",
       "      <td>NaN</td>\n",
       "      <td>NaN</td>\n",
       "      <td>NaN</td>\n",
       "      <td>NaN</td>\n",
       "      <td>NaN</td>\n",
       "      <td>NaN</td>\n",
       "      <td>NaN</td>\n",
       "      <td>NaN</td>\n",
       "      <td>NaN</td>\n",
       "      <td>NaN</td>\n",
       "      <td>NaN</td>\n",
       "      <td>NaN</td>\n",
       "      <td>NaN</td>\n",
       "      <td>NaN</td>\n",
       "    </tr>\n",
       "    <tr>\n",
       "      <th>Temperature</th>\n",
       "      <td>0.039787</td>\n",
       "      <td>-0.090978</td>\n",
       "      <td>NaN</td>\n",
       "      <td>1.000000</td>\n",
       "      <td>-0.656730</td>\n",
       "      <td>-0.293502</td>\n",
       "      <td>-0.312360</td>\n",
       "      <td>0.672220</td>\n",
       "      <td>0.466889</td>\n",
       "      <td>0.357125</td>\n",
       "      <td>0.600381</td>\n",
       "      <td>0.440464</td>\n",
       "      <td>0.560137</td>\n",
       "      <td>0.557853</td>\n",
       "      <td>0.555673</td>\n",
       "    </tr>\n",
       "    <tr>\n",
       "      <th>RH</th>\n",
       "      <td>-0.019367</td>\n",
       "      <td>-0.005250</td>\n",
       "      <td>NaN</td>\n",
       "      <td>-0.656730</td>\n",
       "      <td>1.000000</td>\n",
       "      <td>0.269316</td>\n",
       "      <td>0.212246</td>\n",
       "      <td>-0.654685</td>\n",
       "      <td>-0.397484</td>\n",
       "      <td>-0.197659</td>\n",
       "      <td>-0.700770</td>\n",
       "      <td>-0.334867</td>\n",
       "      <td>-0.593886</td>\n",
       "      <td>-0.589948</td>\n",
       "      <td>-0.587199</td>\n",
       "    </tr>\n",
       "    <tr>\n",
       "      <th>Ws</th>\n",
       "      <td>0.020459</td>\n",
       "      <td>-0.011646</td>\n",
       "      <td>NaN</td>\n",
       "      <td>-0.293502</td>\n",
       "      <td>0.269316</td>\n",
       "      <td>1.000000</td>\n",
       "      <td>0.244579</td>\n",
       "      <td>-0.190307</td>\n",
       "      <td>-0.025481</td>\n",
       "      <td>0.050403</td>\n",
       "      <td>0.010142</td>\n",
       "      <td>0.004921</td>\n",
       "      <td>0.021204</td>\n",
       "      <td>0.021170</td>\n",
       "      <td>0.019883</td>\n",
       "    </tr>\n",
       "    <tr>\n",
       "      <th>Rain</th>\n",
       "      <td>-0.060050</td>\n",
       "      <td>0.037693</td>\n",
       "      <td>NaN</td>\n",
       "      <td>-0.312360</td>\n",
       "      <td>0.212246</td>\n",
       "      <td>0.244579</td>\n",
       "      <td>1.000000</td>\n",
       "      <td>-0.513758</td>\n",
       "      <td>-0.279084</td>\n",
       "      <td>-0.289907</td>\n",
       "      <td>-0.327622</td>\n",
       "      <td>-0.290759</td>\n",
       "      <td>-0.314512</td>\n",
       "      <td>-0.314457</td>\n",
       "      <td>-0.313952</td>\n",
       "    </tr>\n",
       "    <tr>\n",
       "      <th>FFMC</th>\n",
       "      <td>0.161175</td>\n",
       "      <td>-0.025028</td>\n",
       "      <td>NaN</td>\n",
       "      <td>0.672220</td>\n",
       "      <td>-0.654685</td>\n",
       "      <td>-0.190307</td>\n",
       "      <td>-0.513758</td>\n",
       "      <td>1.000000</td>\n",
       "      <td>0.612137</td>\n",
       "      <td>0.504310</td>\n",
       "      <td>0.739249</td>\n",
       "      <td>0.598598</td>\n",
       "      <td>0.703428</td>\n",
       "      <td>0.702394</td>\n",
       "      <td>0.700989</td>\n",
       "    </tr>\n",
       "    <tr>\n",
       "      <th>DMC</th>\n",
       "      <td>0.473430</td>\n",
       "      <td>0.059234</td>\n",
       "      <td>NaN</td>\n",
       "      <td>0.466889</td>\n",
       "      <td>-0.397484</td>\n",
       "      <td>-0.025481</td>\n",
       "      <td>-0.279084</td>\n",
       "      <td>0.612137</td>\n",
       "      <td>1.000000</td>\n",
       "      <td>0.870060</td>\n",
       "      <td>0.657460</td>\n",
       "      <td>0.980959</td>\n",
       "      <td>0.860674</td>\n",
       "      <td>0.860606</td>\n",
       "      <td>0.860670</td>\n",
       "    </tr>\n",
       "    <tr>\n",
       "      <th>DC</th>\n",
       "      <td>0.499794</td>\n",
       "      <td>0.137980</td>\n",
       "      <td>NaN</td>\n",
       "      <td>0.357125</td>\n",
       "      <td>-0.197659</td>\n",
       "      <td>0.050403</td>\n",
       "      <td>-0.289907</td>\n",
       "      <td>0.504310</td>\n",
       "      <td>0.870060</td>\n",
       "      <td>1.000000</td>\n",
       "      <td>0.466954</td>\n",
       "      <td>0.938244</td>\n",
       "      <td>0.709776</td>\n",
       "      <td>0.708728</td>\n",
       "      <td>0.709775</td>\n",
       "    </tr>\n",
       "    <tr>\n",
       "      <th>ISI</th>\n",
       "      <td>0.121438</td>\n",
       "      <td>0.046987</td>\n",
       "      <td>NaN</td>\n",
       "      <td>0.600381</td>\n",
       "      <td>-0.700770</td>\n",
       "      <td>0.010142</td>\n",
       "      <td>-0.327622</td>\n",
       "      <td>0.739249</td>\n",
       "      <td>0.657460</td>\n",
       "      <td>0.466954</td>\n",
       "      <td>1.000000</td>\n",
       "      <td>0.614896</td>\n",
       "      <td>0.924005</td>\n",
       "      <td>0.916674</td>\n",
       "      <td>0.913599</td>\n",
       "    </tr>\n",
       "    <tr>\n",
       "      <th>BUI</th>\n",
       "      <td>0.496536</td>\n",
       "      <td>0.082142</td>\n",
       "      <td>NaN</td>\n",
       "      <td>0.440464</td>\n",
       "      <td>-0.334867</td>\n",
       "      <td>0.004921</td>\n",
       "      <td>-0.290759</td>\n",
       "      <td>0.598598</td>\n",
       "      <td>0.980959</td>\n",
       "      <td>0.938244</td>\n",
       "      <td>0.614896</td>\n",
       "      <td>1.000000</td>\n",
       "      <td>0.839325</td>\n",
       "      <td>0.838837</td>\n",
       "      <td>0.839393</td>\n",
       "    </tr>\n",
       "    <tr>\n",
       "      <th>FWI</th>\n",
       "      <td>0.306762</td>\n",
       "      <td>0.073678</td>\n",
       "      <td>NaN</td>\n",
       "      <td>0.560137</td>\n",
       "      <td>-0.593886</td>\n",
       "      <td>0.021204</td>\n",
       "      <td>-0.314512</td>\n",
       "      <td>0.703428</td>\n",
       "      <td>0.860674</td>\n",
       "      <td>0.709776</td>\n",
       "      <td>0.924005</td>\n",
       "      <td>0.839325</td>\n",
       "      <td>1.000000</td>\n",
       "      <td>1.000000</td>\n",
       "      <td>1.000000</td>\n",
       "    </tr>\n",
       "    <tr>\n",
       "      <th>FWI_mean</th>\n",
       "      <td>0.306722</td>\n",
       "      <td>0.073641</td>\n",
       "      <td>NaN</td>\n",
       "      <td>0.557853</td>\n",
       "      <td>-0.589948</td>\n",
       "      <td>0.021170</td>\n",
       "      <td>-0.314457</td>\n",
       "      <td>0.702394</td>\n",
       "      <td>0.860606</td>\n",
       "      <td>0.708728</td>\n",
       "      <td>0.916674</td>\n",
       "      <td>0.838837</td>\n",
       "      <td>1.000000</td>\n",
       "      <td>1.000000</td>\n",
       "      <td>0.999745</td>\n",
       "    </tr>\n",
       "    <tr>\n",
       "      <th>FWI_median</th>\n",
       "      <td>0.307009</td>\n",
       "      <td>0.074342</td>\n",
       "      <td>NaN</td>\n",
       "      <td>0.555673</td>\n",
       "      <td>-0.587199</td>\n",
       "      <td>0.019883</td>\n",
       "      <td>-0.313952</td>\n",
       "      <td>0.700989</td>\n",
       "      <td>0.860670</td>\n",
       "      <td>0.709775</td>\n",
       "      <td>0.913599</td>\n",
       "      <td>0.839393</td>\n",
       "      <td>1.000000</td>\n",
       "      <td>0.999745</td>\n",
       "      <td>1.000000</td>\n",
       "    </tr>\n",
       "  </tbody>\n",
       "</table>\n",
       "</div>"
      ],
      "text/plain": [
       "                  day     month  year  Temperature        RH        Ws  \\\n",
       "day          1.000000  0.013753   NaN     0.039787 -0.019367  0.020459   \n",
       "month        0.013753  1.000000   NaN    -0.090978 -0.005250 -0.011646   \n",
       "year              NaN       NaN   NaN          NaN       NaN       NaN   \n",
       "Temperature  0.039787 -0.090978   NaN     1.000000 -0.656730 -0.293502   \n",
       "RH          -0.019367 -0.005250   NaN    -0.656730  1.000000  0.269316   \n",
       "Ws           0.020459 -0.011646   NaN    -0.293502  0.269316  1.000000   \n",
       "Rain        -0.060050  0.037693   NaN    -0.312360  0.212246  0.244579   \n",
       "FFMC         0.161175 -0.025028   NaN     0.672220 -0.654685 -0.190307   \n",
       "DMC          0.473430  0.059234   NaN     0.466889 -0.397484 -0.025481   \n",
       "DC           0.499794  0.137980   NaN     0.357125 -0.197659  0.050403   \n",
       "ISI          0.121438  0.046987   NaN     0.600381 -0.700770  0.010142   \n",
       "BUI          0.496536  0.082142   NaN     0.440464 -0.334867  0.004921   \n",
       "FWI          0.306762  0.073678   NaN     0.560137 -0.593886  0.021204   \n",
       "FWI_mean     0.306722  0.073641   NaN     0.557853 -0.589948  0.021170   \n",
       "FWI_median   0.307009  0.074342   NaN     0.555673 -0.587199  0.019883   \n",
       "\n",
       "                 Rain      FFMC       DMC        DC       ISI       BUI  \\\n",
       "day         -0.060050  0.161175  0.473430  0.499794  0.121438  0.496536   \n",
       "month        0.037693 -0.025028  0.059234  0.137980  0.046987  0.082142   \n",
       "year              NaN       NaN       NaN       NaN       NaN       NaN   \n",
       "Temperature -0.312360  0.672220  0.466889  0.357125  0.600381  0.440464   \n",
       "RH           0.212246 -0.654685 -0.397484 -0.197659 -0.700770 -0.334867   \n",
       "Ws           0.244579 -0.190307 -0.025481  0.050403  0.010142  0.004921   \n",
       "Rain         1.000000 -0.513758 -0.279084 -0.289907 -0.327622 -0.290759   \n",
       "FFMC        -0.513758  1.000000  0.612137  0.504310  0.739249  0.598598   \n",
       "DMC         -0.279084  0.612137  1.000000  0.870060  0.657460  0.980959   \n",
       "DC          -0.289907  0.504310  0.870060  1.000000  0.466954  0.938244   \n",
       "ISI         -0.327622  0.739249  0.657460  0.466954  1.000000  0.614896   \n",
       "BUI         -0.290759  0.598598  0.980959  0.938244  0.614896  1.000000   \n",
       "FWI         -0.314512  0.703428  0.860674  0.709776  0.924005  0.839325   \n",
       "FWI_mean    -0.314457  0.702394  0.860606  0.708728  0.916674  0.838837   \n",
       "FWI_median  -0.313952  0.700989  0.860670  0.709775  0.913599  0.839393   \n",
       "\n",
       "                  FWI  FWI_mean  FWI_median  \n",
       "day          0.306762  0.306722    0.307009  \n",
       "month        0.073678  0.073641    0.074342  \n",
       "year              NaN       NaN         NaN  \n",
       "Temperature  0.560137  0.557853    0.555673  \n",
       "RH          -0.593886 -0.589948   -0.587199  \n",
       "Ws           0.021204  0.021170    0.019883  \n",
       "Rain        -0.314512 -0.314457   -0.313952  \n",
       "FFMC         0.703428  0.702394    0.700989  \n",
       "DMC          0.860674  0.860606    0.860670  \n",
       "DC           0.709776  0.708728    0.709775  \n",
       "ISI          0.924005  0.916674    0.913599  \n",
       "BUI          0.839325  0.838837    0.839393  \n",
       "FWI          1.000000  1.000000    1.000000  \n",
       "FWI_mean     1.000000  1.000000    0.999745  \n",
       "FWI_median   1.000000  0.999745    1.000000  "
      ]
     },
     "execution_count": 72,
     "metadata": {},
     "output_type": "execute_result"
    }
   ],
   "source": [
    "X_train.corr()"
   ]
  },
  {
   "cell_type": "code",
   "execution_count": 73,
   "id": "21f9f37a",
   "metadata": {},
   "outputs": [
    {
     "data": {
      "text/plain": [
       "<AxesSubplot:>"
      ]
     },
     "execution_count": 73,
     "metadata": {},
     "output_type": "execute_result"
    },
    {
     "data": {
      "image/png": "[encoded data removed]",
      "text/plain": [
       "<Figure size 432x288 with 1 Axes>"
      ]
     },
     "metadata": {
      "needs_background": "light"
     },
     "output_type": "display_data"
    }
   ],
   "source": [
    "X_train.boxplot(['FWI','FWI_mean','FWI_median'])"
   ]
  },
  {
   "cell_type": "markdown",
   "id": "c2e9ecba",
   "metadata": {},
   "source": [
    "## Random sample imputation"
   ]
  },
  {
   "cell_type": "code",
   "execution_count": 74,
   "id": "241e05ee",
   "metadata": {},
   "outputs": [
    {
     "data": {
      "text/plain": [
       "Index(['day', 'month', 'year', 'Temperature', 'RH', 'Ws', 'Rain', 'FFMC',\n",
       "       'DMC', 'DC', 'ISI', 'BUI', 'FWI', 'Classes'],\n",
       "      dtype='object')"
      ]
     },
     "execution_count": 74,
     "metadata": {},
     "output_type": "execute_result"
    }
   ],
   "source": [
    "df7 = df5.copy()\n",
    "df7.columns"
   ]
  },
  {
   "cell_type": "code",
   "execution_count": 75,
   "id": "5cb54456",
   "metadata": {},
   "outputs": [
    {
     "data": {
      "text/plain": [
       "day            0.000000\n",
       "month          0.000000\n",
       "year           0.000000\n",
       "Temperature    0.000000\n",
       "RH             0.000000\n",
       "Ws             0.000000\n",
       "Rain           0.000000\n",
       "FFMC           0.000000\n",
       "DMC            0.000000\n",
       "DC             0.000000\n",
       "ISI            0.000000\n",
       "BUI            0.000000\n",
       "FWI            0.409836\n",
       "Classes        0.409836\n",
       "dtype: float64"
      ]
     },
     "execution_count": 75,
     "metadata": {},
     "output_type": "execute_result"
    }
   ],
   "source": [
    "df7.isnull().mean()*100"
   ]
  },
  {
   "cell_type": "code",
   "execution_count": 76,
   "id": "f07c0527",
   "metadata": {},
   "outputs": [
    {
     "data": {
      "text/plain": [
       "<AxesSubplot:>"
      ]
     },
     "execution_count": 76,
     "metadata": {},
     "output_type": "execute_result"
    },
    {
     "data": {
      "image/png": "[encoded data removed]",
      "text/plain": [
       "<Figure size 432x288 with 1 Axes>"
      ]
     },
     "metadata": {
      "needs_background": "light"
     },
     "output_type": "display_data"
    }
   ],
   "source": [
    "df7['Classes'].value_counts().sort_values(ascending=False).plot.bar()"
   ]
  },
  {
   "cell_type": "code",
   "execution_count": 77,
   "id": "8c5bfc00",
   "metadata": {},
   "outputs": [
    {
     "data": {
      "text/plain": [
       "<matplotlib.legend.Legend at 0x7fb23963bd00>"
      ]
     },
     "execution_count": 77,
     "metadata": {},
     "output_type": "execute_result"
    },
    {
     "data": {
      "image/png": "[encoded data removed]",
      "text/plain": [
       "<Figure size 432x288 with 1 Axes>"
      ]
     },
     "metadata": {
      "needs_background": "light"
     },
     "output_type": "display_data"
    }
   ],
   "source": [
    "fig= plt.figure()\n",
    "ax = fig.add_subplot(111)\n",
    "\n",
    "df7[df7['Classes']=='fire']['Temperature'].plot(kind='kde',ax=ax)\n",
    "df7[df7['Classes']=='not fire']['Temperature'].plot(kind='kde',ax=ax)\n",
    "#Add legends\n",
    "lines,labels = ax.get_legend_handles_labels()\n",
    "labels=['Temp with fire', 'Temp with no fire']\n",
    "ax.legend(lines, labels,loc='best')"
   ]
  },
  {
   "cell_type": "code",
   "execution_count": 78,
   "id": "79dbf49b",
   "metadata": {},
   "outputs": [
    {
     "name": "stdout",
     "output_type": "stream",
     "text": [
      "<class 'pandas.core.frame.DataFrame'>\n",
      "Int64Index: 244 entries, 0 to 245\n",
      "Data columns (total 14 columns):\n",
      " #   Column       Non-Null Count  Dtype  \n",
      "---  ------       --------------  -----  \n",
      " 0   day          244 non-null    int64  \n",
      " 1   month        244 non-null    int64  \n",
      " 2   year         244 non-null    int64  \n",
      " 3   Temperature  244 non-null    int64  \n",
      " 4   RH           244 non-null    int64  \n",
      " 5   Ws           244 non-null    int64  \n",
      " 6   Rain         244 non-null    float64\n",
      " 7   FFMC         244 non-null    float64\n",
      " 8   DMC          244 non-null    float64\n",
      " 9   DC           244 non-null    float64\n",
      " 10  ISI          244 non-null    float64\n",
      " 11  BUI          244 non-null    float64\n",
      " 12  FWI          243 non-null    float64\n",
      " 13  Classes      243 non-null    object \n",
      "dtypes: float64(7), int64(6), object(1)\n",
      "memory usage: 36.7+ KB\n"
     ]
    }
   ],
   "source": [
    "df7.info()"
   ]
  },
  {
   "cell_type": "code",
   "execution_count": 79,
   "id": "82928710",
   "metadata": {},
   "outputs": [],
   "source": [
    "X = df7.drop(columns=['Classes'])\n",
    "y = df7['Classes']"
   ]
  },
  {
   "cell_type": "code",
   "execution_count": 80,
   "id": "97dd4d51",
   "metadata": {},
   "outputs": [],
   "source": [
    "X_train, X_test, y_train, y_test = train_test_split(X,y, test_size=0.2, random_state=2)"
   ]
  },
  {
   "cell_type": "code",
   "execution_count": 120,
   "id": "670083ce",
   "metadata": {},
   "outputs": [
    {
     "name": "stderr",
     "output_type": "stream",
     "text": [
      "/tmp/ipykernel_101202/2946396772.py:1: SettingWithCopyWarning: \n",
      "A value is trying to be set on a copy of a slice from a DataFrame.\n",
      "Try using .loc[row_indexer,col_indexer] = value instead\n",
      "\n",
      "See the caveats in the documentation: https://pandas.pydata.org/pandas-docs/stable/user_guide/indexing.html#returning-a-view-versus-a-copy\n",
      "  X_train['FWI_imputed'] = X_train['FWI']\n",
      "/tmp/ipykernel_101202/2946396772.py:2: SettingWithCopyWarning: \n",
      "A value is trying to be set on a copy of a slice from a DataFrame.\n",
      "Try using .loc[row_indexer,col_indexer] = value instead\n",
      "\n",
      "See the caveats in the documentation: https://pandas.pydata.org/pandas-docs/stable/user_guide/indexing.html#returning-a-view-versus-a-copy\n",
      "  X_test['FWI_imputed'] = X_test['FWI']\n"
     ]
    }
   ],
   "source": [
    "X_train['FWI_imputed'] = X_train['FWI']\n",
    "X_test['FWI_imputed'] = X_test['FWI']"
   ]
  },
  {
   "cell_type": "code",
   "execution_count": 121,
   "id": "264bcef7",
   "metadata": {},
   "outputs": [
    {
     "data": {
      "text/plain": [
       "167   NaN\n",
       "Name: FWI_imputed, dtype: float64"
      ]
     },
     "execution_count": 121,
     "metadata": {},
     "output_type": "execute_result"
    }
   ],
   "source": [
    "X_train['FWI_imputed'][X_train['FWI_imputed'].isnull()]"
   ]
  },
  {
   "cell_type": "code",
   "execution_count": 122,
   "id": "89c4882d",
   "metadata": {},
   "outputs": [
    {
     "data": {
      "text/plain": [
       "96    1.7\n",
       "Name: FWI, dtype: float64"
      ]
     },
     "execution_count": 122,
     "metadata": {},
     "output_type": "execute_result"
    }
   ],
   "source": [
    "X_train['FWI'].dropna().sample(X_train['FWI'].isnull().sum())"
   ]
  },
  {
   "cell_type": "code",
   "execution_count": 123,
   "id": "70f8ee8c",
   "metadata": {},
   "outputs": [
    {
     "name": "stderr",
     "output_type": "stream",
     "text": [
      "/tmp/ipykernel_101202/86982160.py:1: SettingWithCopyWarning: \n",
      "A value is trying to be set on a copy of a slice from a DataFrame\n",
      "\n",
      "See the caveats in the documentation: https://pandas.pydata.org/pandas-docs/stable/user_guide/indexing.html#returning-a-view-versus-a-copy\n",
      "  X_train['FWI_imputed'][X_train['FWI_imputed'].isnull()]= X_train['FWI'].dropna().sample(X_train['FWI'].isnull().sum()).values\n",
      "/home/honey/anaconda3/lib/python3.9/site-packages/pandas/core/generic.py:8870: SettingWithCopyWarning: \n",
      "A value is trying to be set on a copy of a slice from a DataFrame\n",
      "\n",
      "See the caveats in the documentation: https://pandas.pydata.org/pandas-docs/stable/user_guide/indexing.html#returning-a-view-versus-a-copy\n",
      "  return self._update_inplace(result)\n",
      "/tmp/ipykernel_101202/86982160.py:2: SettingWithCopyWarning: \n",
      "A value is trying to be set on a copy of a slice from a DataFrame\n",
      "\n",
      "See the caveats in the documentation: https://pandas.pydata.org/pandas-docs/stable/user_guide/indexing.html#returning-a-view-versus-a-copy\n",
      "  X_test['FWI_imputed'][X_test['FWI_imputed'].isnull()]= X_test['FWI'].dropna().sample(X_test['FWI'].isnull().sum()).values\n"
     ]
    }
   ],
   "source": [
    "X_train['FWI_imputed'][X_train['FWI_imputed'].isnull()]= X_train['FWI'].dropna().sample(X_train['FWI'].isnull().sum()).values\n",
    "X_test['FWI_imputed'][X_test['FWI_imputed'].isnull()]= X_test['FWI'].dropna().sample(X_test['FWI'].isnull().sum()).values"
   ]
  },
  {
   "cell_type": "code",
   "execution_count": 124,
   "id": "1fcec3d3",
   "metadata": {},
   "outputs": [
    {
     "data": {
      "text/plain": [
       "4.9"
      ]
     },
     "execution_count": 124,
     "metadata": {},
     "output_type": "execute_result"
    }
   ],
   "source": [
    "X_train['FWI_imputed'][167]"
   ]
  },
  {
   "cell_type": "code",
   "execution_count": 125,
   "id": "1fb847f2",
   "metadata": {},
   "outputs": [
    {
     "data": {
      "text/plain": [
       "<matplotlib.legend.Legend at 0x7fb2383e6310>"
      ]
     },
     "execution_count": 125,
     "metadata": {},
     "output_type": "execute_result"
    },
    {
     "data": {
      "image/png": "[encoded data removed]",
      "text/plain": [
       "<Figure size 432x288 with 1 Axes>"
      ]
     },
     "metadata": {
      "needs_background": "light"
     },
     "output_type": "display_data"
    }
   ],
   "source": [
    "fig= plt.figure()\n",
    "ax = fig.add_subplot(111)\n",
    "\n",
    "X_train['FWI'].plot(kind='kde',ax=ax)\n",
    "X_train['FWI_imputed'].plot(kind='kde',ax=ax)\n",
    "#Add legends\n",
    "lines,labels = ax.get_legend_handles_labels()\n",
    "labels=['Original', 'Imputed']\n",
    "ax.legend(lines, labels,loc='best')"
   ]
  },
  {
   "cell_type": "code",
   "execution_count": 126,
   "id": "4122cb74",
   "metadata": {},
   "outputs": [
    {
     "name": "stdout",
     "output_type": "stream",
     "text": [
      "Original FMI Variance 55.77235644463442\n",
      "FMI Variance After imputation 55.5132154374835\n"
     ]
    }
   ],
   "source": [
    "print('Original FMI Variance', X_train['FWI'].var())\n",
    "print('FMI Variance After imputation', X_train['FWI_imputed'].var())\n"
   ]
  },
  {
   "cell_type": "code",
   "execution_count": 127,
   "id": "ec14ae0f",
   "metadata": {},
   "outputs": [
    {
     "data": {
      "text/html": [
       "<div>\n",
       "<style scoped>\n",
       "    .dataframe tbody tr th:only-of-type {\n",
       "        vertical-align: middle;\n",
       "    }\n",
       "\n",
       "    .dataframe tbody tr th {\n",
       "        vertical-align: top;\n",
       "    }\n",
       "\n",
       "    .dataframe thead th {\n",
       "        text-align: right;\n",
       "    }\n",
       "</style>\n",
       "<table border=\"1\" class=\"dataframe\">\n",
       "  <thead>\n",
       "    <tr style=\"text-align: right;\">\n",
       "      <th></th>\n",
       "      <th>day</th>\n",
       "      <th>month</th>\n",
       "      <th>year</th>\n",
       "      <th>Temperature</th>\n",
       "      <th>RH</th>\n",
       "      <th>Ws</th>\n",
       "      <th>Rain</th>\n",
       "      <th>FFMC</th>\n",
       "      <th>DMC</th>\n",
       "      <th>DC</th>\n",
       "      <th>ISI</th>\n",
       "      <th>BUI</th>\n",
       "      <th>FWI</th>\n",
       "      <th>FWI_imputed</th>\n",
       "    </tr>\n",
       "  </thead>\n",
       "  <tbody>\n",
       "    <tr>\n",
       "      <th>day</th>\n",
       "      <td>74.661750</td>\n",
       "      <td>0.130716</td>\n",
       "      <td>0.0</td>\n",
       "      <td>1.298625</td>\n",
       "      <td>-2.585329</td>\n",
       "      <td>0.514354</td>\n",
       "      <td>-1.021409</td>\n",
       "      <td>19.795586</td>\n",
       "      <td>49.576558</td>\n",
       "      <td>199.190277</td>\n",
       "      <td>4.541959</td>\n",
       "      <td>59.302363</td>\n",
       "      <td>19.843830</td>\n",
       "      <td>19.765096</td>\n",
       "    </tr>\n",
       "    <tr>\n",
       "      <th>month</th>\n",
       "      <td>0.130716</td>\n",
       "      <td>1.209886</td>\n",
       "      <td>0.0</td>\n",
       "      <td>-0.378007</td>\n",
       "      <td>-0.089215</td>\n",
       "      <td>-0.037272</td>\n",
       "      <td>0.081615</td>\n",
       "      <td>-0.391303</td>\n",
       "      <td>0.789611</td>\n",
       "      <td>7.000276</td>\n",
       "      <td>0.223711</td>\n",
       "      <td>1.248850</td>\n",
       "      <td>0.606487</td>\n",
       "      <td>0.609265</td>\n",
       "    </tr>\n",
       "    <tr>\n",
       "      <th>year</th>\n",
       "      <td>0.000000</td>\n",
       "      <td>0.000000</td>\n",
       "      <td>0.0</td>\n",
       "      <td>0.000000</td>\n",
       "      <td>0.000000</td>\n",
       "      <td>0.000000</td>\n",
       "      <td>0.000000</td>\n",
       "      <td>0.000000</td>\n",
       "      <td>0.000000</td>\n",
       "      <td>0.000000</td>\n",
       "      <td>0.000000</td>\n",
       "      <td>0.000000</td>\n",
       "      <td>0.000000</td>\n",
       "      <td>0.000000</td>\n",
       "    </tr>\n",
       "    <tr>\n",
       "      <th>Temperature</th>\n",
       "      <td>1.298625</td>\n",
       "      <td>-0.378007</td>\n",
       "      <td>0.0</td>\n",
       "      <td>14.268729</td>\n",
       "      <td>-38.325773</td>\n",
       "      <td>-3.225773</td>\n",
       "      <td>-2.322646</td>\n",
       "      <td>36.093127</td>\n",
       "      <td>21.373608</td>\n",
       "      <td>62.221543</td>\n",
       "      <td>9.816598</td>\n",
       "      <td>22.997216</td>\n",
       "      <td>15.777728</td>\n",
       "      <td>15.639038</td>\n",
       "    </tr>\n",
       "    <tr>\n",
       "      <th>RH</th>\n",
       "      <td>-2.585329</td>\n",
       "      <td>-0.089215</td>\n",
       "      <td>0.0</td>\n",
       "      <td>-38.325773</td>\n",
       "      <td>238.683743</td>\n",
       "      <td>12.106106</td>\n",
       "      <td>6.454845</td>\n",
       "      <td>-143.768676</td>\n",
       "      <td>-74.422308</td>\n",
       "      <td>-140.849925</td>\n",
       "      <td>-46.862784</td>\n",
       "      <td>-71.508255</td>\n",
       "      <td>-68.242802</td>\n",
       "      <td>-67.591983</td>\n",
       "    </tr>\n",
       "    <tr>\n",
       "      <th>Ws</th>\n",
       "      <td>0.514354</td>\n",
       "      <td>-0.037272</td>\n",
       "      <td>0.0</td>\n",
       "      <td>-3.225773</td>\n",
       "      <td>12.106106</td>\n",
       "      <td>8.465662</td>\n",
       "      <td>1.400825</td>\n",
       "      <td>-7.870579</td>\n",
       "      <td>-0.898509</td>\n",
       "      <td>6.764164</td>\n",
       "      <td>0.127732</td>\n",
       "      <td>0.197906</td>\n",
       "      <td>0.461196</td>\n",
       "      <td>0.431039</td>\n",
       "    </tr>\n",
       "    <tr>\n",
       "      <th>Rain</th>\n",
       "      <td>-1.021409</td>\n",
       "      <td>0.081615</td>\n",
       "      <td>0.0</td>\n",
       "      <td>-2.322646</td>\n",
       "      <td>6.454845</td>\n",
       "      <td>1.400825</td>\n",
       "      <td>3.874976</td>\n",
       "      <td>-14.375189</td>\n",
       "      <td>-6.657969</td>\n",
       "      <td>-26.322183</td>\n",
       "      <td>-2.791567</td>\n",
       "      <td>-7.911144</td>\n",
       "      <td>-4.634757</td>\n",
       "      <td>-4.604646</td>\n",
       "    </tr>\n",
       "    <tr>\n",
       "      <th>FFMC</th>\n",
       "      <td>19.795586</td>\n",
       "      <td>-0.391303</td>\n",
       "      <td>0.0</td>\n",
       "      <td>36.093127</td>\n",
       "      <td>-143.768676</td>\n",
       "      <td>-7.870579</td>\n",
       "      <td>-14.375189</td>\n",
       "      <td>202.041932</td>\n",
       "      <td>105.448731</td>\n",
       "      <td>330.633208</td>\n",
       "      <td>45.483351</td>\n",
       "      <td>117.605519</td>\n",
       "      <td>74.753767</td>\n",
       "      <td>74.238706</td>\n",
       "    </tr>\n",
       "    <tr>\n",
       "      <th>DMC</th>\n",
       "      <td>49.576558</td>\n",
       "      <td>0.789611</td>\n",
       "      <td>0.0</td>\n",
       "      <td>21.373608</td>\n",
       "      <td>-74.422308</td>\n",
       "      <td>-0.898509</td>\n",
       "      <td>-6.657969</td>\n",
       "      <td>105.448731</td>\n",
       "      <td>146.873467</td>\n",
       "      <td>486.350116</td>\n",
       "      <td>34.489134</td>\n",
       "      <td>164.321561</td>\n",
       "      <td>78.092254</td>\n",
       "      <td>77.715334</td>\n",
       "    </tr>\n",
       "    <tr>\n",
       "      <th>DC</th>\n",
       "      <td>199.190277</td>\n",
       "      <td>7.000276</td>\n",
       "      <td>0.0</td>\n",
       "      <td>62.221543</td>\n",
       "      <td>-140.849925</td>\n",
       "      <td>6.764164</td>\n",
       "      <td>-26.322183</td>\n",
       "      <td>330.633208</td>\n",
       "      <td>486.350116</td>\n",
       "      <td>2127.433949</td>\n",
       "      <td>93.227414</td>\n",
       "      <td>598.158096</td>\n",
       "      <td>244.759426</td>\n",
       "      <td>243.919625</td>\n",
       "    </tr>\n",
       "    <tr>\n",
       "      <th>ISI</th>\n",
       "      <td>4.541959</td>\n",
       "      <td>0.223711</td>\n",
       "      <td>0.0</td>\n",
       "      <td>9.816598</td>\n",
       "      <td>-46.862784</td>\n",
       "      <td>0.127732</td>\n",
       "      <td>-2.791567</td>\n",
       "      <td>45.483351</td>\n",
       "      <td>34.489134</td>\n",
       "      <td>93.227414</td>\n",
       "      <td>18.736227</td>\n",
       "      <td>36.788732</td>\n",
       "      <td>29.708963</td>\n",
       "      <td>29.464206</td>\n",
       "    </tr>\n",
       "    <tr>\n",
       "      <th>BUI</th>\n",
       "      <td>59.302363</td>\n",
       "      <td>1.248850</td>\n",
       "      <td>0.0</td>\n",
       "      <td>22.997216</td>\n",
       "      <td>-71.508255</td>\n",
       "      <td>0.197906</td>\n",
       "      <td>-7.911144</td>\n",
       "      <td>117.605519</td>\n",
       "      <td>164.321561</td>\n",
       "      <td>598.158096</td>\n",
       "      <td>36.788732</td>\n",
       "      <td>191.048595</td>\n",
       "      <td>86.812244</td>\n",
       "      <td>86.444145</td>\n",
       "    </tr>\n",
       "    <tr>\n",
       "      <th>FWI</th>\n",
       "      <td>19.843830</td>\n",
       "      <td>0.606487</td>\n",
       "      <td>0.0</td>\n",
       "      <td>15.777728</td>\n",
       "      <td>-68.242802</td>\n",
       "      <td>0.461196</td>\n",
       "      <td>-4.634757</td>\n",
       "      <td>74.753767</td>\n",
       "      <td>78.092254</td>\n",
       "      <td>244.759426</td>\n",
       "      <td>29.708963</td>\n",
       "      <td>86.812244</td>\n",
       "      <td>55.772356</td>\n",
       "      <td>55.772356</td>\n",
       "    </tr>\n",
       "    <tr>\n",
       "      <th>FWI_imputed</th>\n",
       "      <td>19.765096</td>\n",
       "      <td>0.609265</td>\n",
       "      <td>0.0</td>\n",
       "      <td>15.639038</td>\n",
       "      <td>-67.591983</td>\n",
       "      <td>0.431039</td>\n",
       "      <td>-4.604646</td>\n",
       "      <td>74.238706</td>\n",
       "      <td>77.715334</td>\n",
       "      <td>243.919625</td>\n",
       "      <td>29.464206</td>\n",
       "      <td>86.444145</td>\n",
       "      <td>55.772356</td>\n",
       "      <td>55.513215</td>\n",
       "    </tr>\n",
       "  </tbody>\n",
       "</table>\n",
       "</div>"
      ],
      "text/plain": [
       "                    day     month  year  Temperature          RH         Ws  \\\n",
       "day           74.661750  0.130716   0.0     1.298625   -2.585329   0.514354   \n",
       "month          0.130716  1.209886   0.0    -0.378007   -0.089215  -0.037272   \n",
       "year           0.000000  0.000000   0.0     0.000000    0.000000   0.000000   \n",
       "Temperature    1.298625 -0.378007   0.0    14.268729  -38.325773  -3.225773   \n",
       "RH            -2.585329 -0.089215   0.0   -38.325773  238.683743  12.106106   \n",
       "Ws             0.514354 -0.037272   0.0    -3.225773   12.106106   8.465662   \n",
       "Rain          -1.021409  0.081615   0.0    -2.322646    6.454845   1.400825   \n",
       "FFMC          19.795586 -0.391303   0.0    36.093127 -143.768676  -7.870579   \n",
       "DMC           49.576558  0.789611   0.0    21.373608  -74.422308  -0.898509   \n",
       "DC           199.190277  7.000276   0.0    62.221543 -140.849925   6.764164   \n",
       "ISI            4.541959  0.223711   0.0     9.816598  -46.862784   0.127732   \n",
       "BUI           59.302363  1.248850   0.0    22.997216  -71.508255   0.197906   \n",
       "FWI           19.843830  0.606487   0.0    15.777728  -68.242802   0.461196   \n",
       "FWI_imputed   19.765096  0.609265   0.0    15.639038  -67.591983   0.431039   \n",
       "\n",
       "                  Rain        FFMC         DMC           DC        ISI  \\\n",
       "day          -1.021409   19.795586   49.576558   199.190277   4.541959   \n",
       "month         0.081615   -0.391303    0.789611     7.000276   0.223711   \n",
       "year          0.000000    0.000000    0.000000     0.000000   0.000000   \n",
       "Temperature  -2.322646   36.093127   21.373608    62.221543   9.816598   \n",
       "RH            6.454845 -143.768676  -74.422308  -140.849925 -46.862784   \n",
       "Ws            1.400825   -7.870579   -0.898509     6.764164   0.127732   \n",
       "Rain          3.874976  -14.375189   -6.657969   -26.322183  -2.791567   \n",
       "FFMC        -14.375189  202.041932  105.448731   330.633208  45.483351   \n",
       "DMC          -6.657969  105.448731  146.873467   486.350116  34.489134   \n",
       "DC          -26.322183  330.633208  486.350116  2127.433949  93.227414   \n",
       "ISI          -2.791567   45.483351   34.489134    93.227414  18.736227   \n",
       "BUI          -7.911144  117.605519  164.321561   598.158096  36.788732   \n",
       "FWI          -4.634757   74.753767   78.092254   244.759426  29.708963   \n",
       "FWI_imputed  -4.604646   74.238706   77.715334   243.919625  29.464206   \n",
       "\n",
       "                    BUI         FWI  FWI_imputed  \n",
       "day           59.302363   19.843830    19.765096  \n",
       "month          1.248850    0.606487     0.609265  \n",
       "year           0.000000    0.000000     0.000000  \n",
       "Temperature   22.997216   15.777728    15.639038  \n",
       "RH           -71.508255  -68.242802   -67.591983  \n",
       "Ws             0.197906    0.461196     0.431039  \n",
       "Rain          -7.911144   -4.634757    -4.604646  \n",
       "FFMC         117.605519   74.753767    74.238706  \n",
       "DMC          164.321561   78.092254    77.715334  \n",
       "DC           598.158096  244.759426   243.919625  \n",
       "ISI           36.788732   29.708963    29.464206  \n",
       "BUI          191.048595   86.812244    86.444145  \n",
       "FWI           86.812244   55.772356    55.772356  \n",
       "FWI_imputed   86.444145   55.772356    55.513215  "
      ]
     },
     "execution_count": 127,
     "metadata": {},
     "output_type": "execute_result"
    }
   ],
   "source": [
    "X_train.cov()"
   ]
  },
  {
   "cell_type": "code",
   "execution_count": 128,
   "id": "8d1675d0",
   "metadata": {},
   "outputs": [
    {
     "data": {
      "text/plain": [
       "<AxesSubplot:>"
      ]
     },
     "execution_count": 128,
     "metadata": {},
     "output_type": "execute_result"
    },
    {
     "data": {
      "image/png": "[encoded data removed]",
      "text/plain": [
       "<Figure size 432x288 with 1 Axes>"
      ]
     },
     "metadata": {
      "needs_background": "light"
     },
     "output_type": "display_data"
    }
   ],
   "source": [
    "X_train.boxplot(['FWI','FWI_imputed'])"
   ]
  },
  {
   "cell_type": "code",
   "execution_count": 90,
   "id": "6db535e2",
   "metadata": {},
   "outputs": [],
   "source": [
    "## Handling FWI missing value"
   ]
  },
  {
   "cell_type": "code",
   "execution_count": 129,
   "id": "bef8e475",
   "metadata": {},
   "outputs": [
    {
     "data": {
      "text/plain": [
       "Index(['day', 'month', 'year', 'Temperature', 'RH', 'Ws', 'Rain', 'FFMC',\n",
       "       'DMC', 'DC', 'ISI', 'BUI', 'FWI', 'Classes'],\n",
       "      dtype='object')"
      ]
     },
     "execution_count": 129,
     "metadata": {},
     "output_type": "execute_result"
    }
   ],
   "source": [
    "df8 = df5.copy()\n",
    "df8.columns"
   ]
  },
  {
   "cell_type": "code",
   "execution_count": 130,
   "id": "babb5e44",
   "metadata": {},
   "outputs": [
    {
     "name": "stdout",
     "output_type": "stream",
     "text": [
      "<class 'pandas.core.frame.DataFrame'>\n",
      "Int64Index: 244 entries, 0 to 245\n",
      "Data columns (total 14 columns):\n",
      " #   Column       Non-Null Count  Dtype  \n",
      "---  ------       --------------  -----  \n",
      " 0   day          244 non-null    int64  \n",
      " 1   month        244 non-null    int64  \n",
      " 2   year         244 non-null    int64  \n",
      " 3   Temperature  244 non-null    int64  \n",
      " 4   RH           244 non-null    int64  \n",
      " 5   Ws           244 non-null    int64  \n",
      " 6   Rain         244 non-null    float64\n",
      " 7   FFMC         244 non-null    float64\n",
      " 8   DMC          244 non-null    float64\n",
      " 9   DC           244 non-null    float64\n",
      " 10  ISI          244 non-null    float64\n",
      " 11  BUI          244 non-null    float64\n",
      " 12  FWI          243 non-null    float64\n",
      " 13  Classes      243 non-null    object \n",
      "dtypes: float64(7), int64(6), object(1)\n",
      "memory usage: 36.7+ KB\n"
     ]
    }
   ],
   "source": [
    "df8.info()"
   ]
  },
  {
   "cell_type": "code",
   "execution_count": 131,
   "id": "b2396e32",
   "metadata": {},
   "outputs": [],
   "source": [
    "df8['FWI_imputed'] = df8['FWI']"
   ]
  },
  {
   "cell_type": "code",
   "execution_count": 132,
   "id": "48cd4dfa",
   "metadata": {},
   "outputs": [
    {
     "name": "stderr",
     "output_type": "stream",
     "text": [
      "/tmp/ipykernel_101202/747467013.py:1: SettingWithCopyWarning: \n",
      "A value is trying to be set on a copy of a slice from a DataFrame\n",
      "\n",
      "See the caveats in the documentation: https://pandas.pydata.org/pandas-docs/stable/user_guide/indexing.html#returning-a-view-versus-a-copy\n",
      "  df8['FWI_imputed'][df8['FWI_imputed'].isnull()] = df8['FWI'].dropna().sample(df8['FWI'].isnull().sum()).values\n"
     ]
    }
   ],
   "source": [
    "df8['FWI_imputed'][df8['FWI_imputed'].isnull()] = df8['FWI'].dropna().sample(df8['FWI'].isnull().sum()).values"
   ]
  },
  {
   "cell_type": "code",
   "execution_count": 133,
   "id": "dd804e78",
   "metadata": {},
   "outputs": [
    {
     "data": {
      "text/plain": [
       "array([ 0.5,  0.4,  0.1,  0. ,  2.5,  7.2,  7.1,  0.3,  0.9,  5.6,  0.2,\n",
       "        1.4,  2.2,  2.3,  3.8,  7.5,  8.4, 10.6, 15. , 13.9,  3.9, 12.9,\n",
       "        1.7,  4.9,  6.8,  3.2,  8. ,  0.6,  3.4,  0.8,  3.6,  6. , 10.9,\n",
       "        4. ,  8.8,  2.8,  2.1,  1.3,  7.3, 15.3, 11.3, 11.9, 10.7, 15.7,\n",
       "        6.1,  2.6,  9.9, 11.6, 12.1,  4.2, 10.2,  6.3, 14.6, 16.1, 17.2,\n",
       "       16.8, 18.4, 20.4, 22.3, 20.9, 20.3, 13.7, 13.2, 19.9, 30.2,  5.9,\n",
       "        7.7,  9.7,  8.3,  0.7,  4.1,  1. ,  3.1,  1.9, 10. , 16.7,  1.2,\n",
       "        5.3,  6.7,  9.5, 12. ,  6.4,  5.2,  3. ,  9.6,  4.7, 14.1,  9.1,\n",
       "       13. , 17.3, 30. , 25.4, 16.3,  9. , 14.5, 13.5, 19.5, 12.6, 12.7,\n",
       "       21.6, 18.8, 10.5,  5.5, 14.8, 24. , 26.3, 12.2, 18.1, 24.5, 26.9,\n",
       "       31.1, 30.3, 26.1, 16. , 19.4,  2.7,  3.7, 10.3,  5.7,  9.8, 19.3,\n",
       "       17.5, 15.4, 15.2,  6.5])"
      ]
     },
     "execution_count": 133,
     "metadata": {},
     "output_type": "execute_result"
    }
   ],
   "source": [
    "df8['FWI_imputed'].unique()"
   ]
  },
  {
   "cell_type": "code",
   "execution_count": 134,
   "id": "52a5c5e3",
   "metadata": {},
   "outputs": [],
   "source": [
    "## Handling Classes missing value"
   ]
  },
  {
   "cell_type": "code",
   "execution_count": 135,
   "id": "76f5d3fa",
   "metadata": {},
   "outputs": [],
   "source": [
    "df8['Classes_imputed'] = df8['Classes']"
   ]
  },
  {
   "cell_type": "code",
   "execution_count": 136,
   "id": "440f514d",
   "metadata": {},
   "outputs": [
    {
     "name": "stderr",
     "output_type": "stream",
     "text": [
      "/tmp/ipykernel_101202/3994612744.py:1: SettingWithCopyWarning: \n",
      "A value is trying to be set on a copy of a slice from a DataFrame\n",
      "\n",
      "See the caveats in the documentation: https://pandas.pydata.org/pandas-docs/stable/user_guide/indexing.html#returning-a-view-versus-a-copy\n",
      "  df8['Classes_imputed'][df8['Classes_imputed'].isnull()] = df8['Classes'].dropna().sample(df8['Classes'].isnull().sum()).values\n"
     ]
    }
   ],
   "source": [
    "df8['Classes_imputed'][df8['Classes_imputed'].isnull()] = df8['Classes'].dropna().sample(df8['Classes'].isnull().sum()).values"
   ]
  },
  {
   "cell_type": "code",
   "execution_count": 137,
   "id": "518a0495",
   "metadata": {},
   "outputs": [],
   "source": [
    "df8.drop(columns=['FWI','Classes'], axis=1, inplace = True)"
   ]
  },
  {
   "cell_type": "code",
   "execution_count": 138,
   "id": "a5f584f0",
   "metadata": {},
   "outputs": [
    {
     "data": {
      "text/plain": [
       "day                0\n",
       "month              0\n",
       "year               0\n",
       "Temperature        0\n",
       "RH                 0\n",
       "Ws                 0\n",
       "Rain               0\n",
       "FFMC               0\n",
       "DMC                0\n",
       "DC                 0\n",
       "ISI                0\n",
       "BUI                0\n",
       "FWI_imputed        0\n",
       "Classes_imputed    0\n",
       "dtype: int64"
      ]
     },
     "execution_count": 138,
     "metadata": {},
     "output_type": "execute_result"
    }
   ],
   "source": [
    "df8.isnull().sum()"
   ]
  },
  {
   "cell_type": "code",
   "execution_count": 139,
   "id": "ee0a5d9a",
   "metadata": {},
   "outputs": [
    {
     "data": {
      "text/html": [
       "<div>\n",
       "<style scoped>\n",
       "    .dataframe tbody tr th:only-of-type {\n",
       "        vertical-align: middle;\n",
       "    }\n",
       "\n",
       "    .dataframe tbody tr th {\n",
       "        vertical-align: top;\n",
       "    }\n",
       "\n",
       "    .dataframe thead th {\n",
       "        text-align: right;\n",
       "    }\n",
       "</style>\n",
       "<table border=\"1\" class=\"dataframe\">\n",
       "  <thead>\n",
       "    <tr style=\"text-align: right;\">\n",
       "      <th></th>\n",
       "      <th>day</th>\n",
       "      <th>month</th>\n",
       "      <th>year</th>\n",
       "      <th>Temperature</th>\n",
       "      <th>RH</th>\n",
       "      <th>Ws</th>\n",
       "      <th>Rain</th>\n",
       "      <th>FFMC</th>\n",
       "      <th>DMC</th>\n",
       "      <th>DC</th>\n",
       "      <th>ISI</th>\n",
       "      <th>BUI</th>\n",
       "      <th>FWI_imputed</th>\n",
       "      <th>Classes_imputed</th>\n",
       "    </tr>\n",
       "  </thead>\n",
       "  <tbody>\n",
       "    <tr>\n",
       "      <th>0</th>\n",
       "      <td>1</td>\n",
       "      <td>6</td>\n",
       "      <td>2012</td>\n",
       "      <td>29</td>\n",
       "      <td>57</td>\n",
       "      <td>18</td>\n",
       "      <td>0.0</td>\n",
       "      <td>65.7</td>\n",
       "      <td>3.4</td>\n",
       "      <td>7.6</td>\n",
       "      <td>1.3</td>\n",
       "      <td>3.4</td>\n",
       "      <td>0.5</td>\n",
       "      <td>not fire</td>\n",
       "    </tr>\n",
       "    <tr>\n",
       "      <th>1</th>\n",
       "      <td>2</td>\n",
       "      <td>6</td>\n",
       "      <td>2012</td>\n",
       "      <td>29</td>\n",
       "      <td>61</td>\n",
       "      <td>13</td>\n",
       "      <td>1.3</td>\n",
       "      <td>64.4</td>\n",
       "      <td>4.1</td>\n",
       "      <td>7.6</td>\n",
       "      <td>1.0</td>\n",
       "      <td>3.9</td>\n",
       "      <td>0.4</td>\n",
       "      <td>not fire</td>\n",
       "    </tr>\n",
       "    <tr>\n",
       "      <th>2</th>\n",
       "      <td>3</td>\n",
       "      <td>6</td>\n",
       "      <td>2012</td>\n",
       "      <td>26</td>\n",
       "      <td>82</td>\n",
       "      <td>22</td>\n",
       "      <td>13.1</td>\n",
       "      <td>47.1</td>\n",
       "      <td>2.5</td>\n",
       "      <td>7.1</td>\n",
       "      <td>0.3</td>\n",
       "      <td>2.7</td>\n",
       "      <td>0.1</td>\n",
       "      <td>not fire</td>\n",
       "    </tr>\n",
       "    <tr>\n",
       "      <th>3</th>\n",
       "      <td>4</td>\n",
       "      <td>6</td>\n",
       "      <td>2012</td>\n",
       "      <td>25</td>\n",
       "      <td>89</td>\n",
       "      <td>13</td>\n",
       "      <td>2.5</td>\n",
       "      <td>28.6</td>\n",
       "      <td>1.3</td>\n",
       "      <td>6.9</td>\n",
       "      <td>0.0</td>\n",
       "      <td>1.7</td>\n",
       "      <td>0.0</td>\n",
       "      <td>not fire</td>\n",
       "    </tr>\n",
       "    <tr>\n",
       "      <th>4</th>\n",
       "      <td>5</td>\n",
       "      <td>6</td>\n",
       "      <td>2012</td>\n",
       "      <td>27</td>\n",
       "      <td>77</td>\n",
       "      <td>16</td>\n",
       "      <td>0.0</td>\n",
       "      <td>64.8</td>\n",
       "      <td>3.0</td>\n",
       "      <td>14.2</td>\n",
       "      <td>1.2</td>\n",
       "      <td>3.9</td>\n",
       "      <td>0.5</td>\n",
       "      <td>not fire</td>\n",
       "    </tr>\n",
       "  </tbody>\n",
       "</table>\n",
       "</div>"
      ],
      "text/plain": [
       "   day  month  year  Temperature  RH  Ws  Rain  FFMC  DMC    DC  ISI  BUI  \\\n",
       "0    1      6  2012           29  57  18   0.0  65.7  3.4   7.6  1.3  3.4   \n",
       "1    2      6  2012           29  61  13   1.3  64.4  4.1   7.6  1.0  3.9   \n",
       "2    3      6  2012           26  82  22  13.1  47.1  2.5   7.1  0.3  2.7   \n",
       "3    4      6  2012           25  89  13   2.5  28.6  1.3   6.9  0.0  1.7   \n",
       "4    5      6  2012           27  77  16   0.0  64.8  3.0  14.2  1.2  3.9   \n",
       "\n",
       "   FWI_imputed Classes_imputed  \n",
       "0          0.5        not fire  \n",
       "1          0.4        not fire  \n",
       "2          0.1        not fire  \n",
       "3          0.0        not fire  \n",
       "4          0.5        not fire  "
      ]
     },
     "execution_count": 139,
     "metadata": {},
     "output_type": "execute_result"
    }
   ],
   "source": [
    "df8.head()"
   ]
  },
  {
   "cell_type": "markdown",
   "id": "4b2c88de",
   "metadata": {},
   "source": [
    "## EDA"
   ]
  },
  {
   "cell_type": "code",
   "execution_count": 140,
   "id": "d20cf3e1",
   "metadata": {},
   "outputs": [
    {
     "name": "stdout",
     "output_type": "stream",
     "text": [
      "<class 'pandas.core.frame.DataFrame'>\n",
      "Int64Index: 244 entries, 0 to 245\n",
      "Data columns (total 14 columns):\n",
      " #   Column           Non-Null Count  Dtype  \n",
      "---  ------           --------------  -----  \n",
      " 0   day              244 non-null    int64  \n",
      " 1   month            244 non-null    int64  \n",
      " 2   year             244 non-null    int64  \n",
      " 3   Temperature      244 non-null    int64  \n",
      " 4   RH               244 non-null    int64  \n",
      " 5   Ws               244 non-null    int64  \n",
      " 6   Rain             244 non-null    float64\n",
      " 7   FFMC             244 non-null    float64\n",
      " 8   DMC              244 non-null    float64\n",
      " 9   DC               244 non-null    float64\n",
      " 10  ISI              244 non-null    float64\n",
      " 11  BUI              244 non-null    float64\n",
      " 12  FWI_imputed      244 non-null    float64\n",
      " 13  Classes_imputed  244 non-null    object \n",
      "dtypes: float64(7), int64(6), object(1)\n",
      "memory usage: 36.7+ KB\n"
     ]
    }
   ],
   "source": [
    "df9 = df8.copy()\n",
    "df9.info()"
   ]
  },
  {
   "cell_type": "code",
   "execution_count": 141,
   "id": "ed1fac52",
   "metadata": {},
   "outputs": [
    {
     "data": {
      "text/plain": [
       "Index(['day', 'month', 'year', 'Temperature', 'RH', 'Ws', 'Rain', 'FFMC',\n",
       "       'DMC', 'DC', 'ISI', 'BUI', 'FWI_imputed', 'Classes_imputed'],\n",
       "      dtype='object')"
      ]
     },
     "execution_count": 141,
     "metadata": {},
     "output_type": "execute_result"
    }
   ],
   "source": [
    "df9.columns"
   ]
  },
  {
   "cell_type": "code",
   "execution_count": 142,
   "id": "ef72d692",
   "metadata": {},
   "outputs": [],
   "source": [
    "df9.rename(columns={'FWI_imputed':'FWI','Classes_imputed':'classes'}, inplace = True)"
   ]
  },
  {
   "cell_type": "code",
   "execution_count": 143,
   "id": "f065f3db",
   "metadata": {},
   "outputs": [
    {
     "data": {
      "text/html": [
       "<div>\n",
       "<style scoped>\n",
       "    .dataframe tbody tr th:only-of-type {\n",
       "        vertical-align: middle;\n",
       "    }\n",
       "\n",
       "    .dataframe tbody tr th {\n",
       "        vertical-align: top;\n",
       "    }\n",
       "\n",
       "    .dataframe thead th {\n",
       "        text-align: right;\n",
       "    }\n",
       "</style>\n",
       "<table border=\"1\" class=\"dataframe\">\n",
       "  <thead>\n",
       "    <tr style=\"text-align: right;\">\n",
       "      <th></th>\n",
       "      <th>day</th>\n",
       "      <th>month</th>\n",
       "      <th>year</th>\n",
       "      <th>Temperature</th>\n",
       "      <th>RH</th>\n",
       "      <th>Ws</th>\n",
       "      <th>Rain</th>\n",
       "      <th>FFMC</th>\n",
       "      <th>DMC</th>\n",
       "      <th>DC</th>\n",
       "      <th>ISI</th>\n",
       "      <th>BUI</th>\n",
       "      <th>FWI</th>\n",
       "      <th>classes</th>\n",
       "    </tr>\n",
       "  </thead>\n",
       "  <tbody>\n",
       "    <tr>\n",
       "      <th>0</th>\n",
       "      <td>1</td>\n",
       "      <td>6</td>\n",
       "      <td>2012</td>\n",
       "      <td>29</td>\n",
       "      <td>57</td>\n",
       "      <td>18</td>\n",
       "      <td>0.0</td>\n",
       "      <td>65.7</td>\n",
       "      <td>3.4</td>\n",
       "      <td>7.6</td>\n",
       "      <td>1.3</td>\n",
       "      <td>3.4</td>\n",
       "      <td>0.5</td>\n",
       "      <td>not fire</td>\n",
       "    </tr>\n",
       "    <tr>\n",
       "      <th>1</th>\n",
       "      <td>2</td>\n",
       "      <td>6</td>\n",
       "      <td>2012</td>\n",
       "      <td>29</td>\n",
       "      <td>61</td>\n",
       "      <td>13</td>\n",
       "      <td>1.3</td>\n",
       "      <td>64.4</td>\n",
       "      <td>4.1</td>\n",
       "      <td>7.6</td>\n",
       "      <td>1.0</td>\n",
       "      <td>3.9</td>\n",
       "      <td>0.4</td>\n",
       "      <td>not fire</td>\n",
       "    </tr>\n",
       "    <tr>\n",
       "      <th>2</th>\n",
       "      <td>3</td>\n",
       "      <td>6</td>\n",
       "      <td>2012</td>\n",
       "      <td>26</td>\n",
       "      <td>82</td>\n",
       "      <td>22</td>\n",
       "      <td>13.1</td>\n",
       "      <td>47.1</td>\n",
       "      <td>2.5</td>\n",
       "      <td>7.1</td>\n",
       "      <td>0.3</td>\n",
       "      <td>2.7</td>\n",
       "      <td>0.1</td>\n",
       "      <td>not fire</td>\n",
       "    </tr>\n",
       "    <tr>\n",
       "      <th>3</th>\n",
       "      <td>4</td>\n",
       "      <td>6</td>\n",
       "      <td>2012</td>\n",
       "      <td>25</td>\n",
       "      <td>89</td>\n",
       "      <td>13</td>\n",
       "      <td>2.5</td>\n",
       "      <td>28.6</td>\n",
       "      <td>1.3</td>\n",
       "      <td>6.9</td>\n",
       "      <td>0.0</td>\n",
       "      <td>1.7</td>\n",
       "      <td>0.0</td>\n",
       "      <td>not fire</td>\n",
       "    </tr>\n",
       "    <tr>\n",
       "      <th>4</th>\n",
       "      <td>5</td>\n",
       "      <td>6</td>\n",
       "      <td>2012</td>\n",
       "      <td>27</td>\n",
       "      <td>77</td>\n",
       "      <td>16</td>\n",
       "      <td>0.0</td>\n",
       "      <td>64.8</td>\n",
       "      <td>3.0</td>\n",
       "      <td>14.2</td>\n",
       "      <td>1.2</td>\n",
       "      <td>3.9</td>\n",
       "      <td>0.5</td>\n",
       "      <td>not fire</td>\n",
       "    </tr>\n",
       "    <tr>\n",
       "      <th>...</th>\n",
       "      <td>...</td>\n",
       "      <td>...</td>\n",
       "      <td>...</td>\n",
       "      <td>...</td>\n",
       "      <td>...</td>\n",
       "      <td>...</td>\n",
       "      <td>...</td>\n",
       "      <td>...</td>\n",
       "      <td>...</td>\n",
       "      <td>...</td>\n",
       "      <td>...</td>\n",
       "      <td>...</td>\n",
       "      <td>...</td>\n",
       "      <td>...</td>\n",
       "    </tr>\n",
       "    <tr>\n",
       "      <th>241</th>\n",
       "      <td>26</td>\n",
       "      <td>9</td>\n",
       "      <td>2012</td>\n",
       "      <td>30</td>\n",
       "      <td>65</td>\n",
       "      <td>14</td>\n",
       "      <td>0.0</td>\n",
       "      <td>85.4</td>\n",
       "      <td>16.0</td>\n",
       "      <td>44.5</td>\n",
       "      <td>4.5</td>\n",
       "      <td>16.9</td>\n",
       "      <td>6.5</td>\n",
       "      <td>fire</td>\n",
       "    </tr>\n",
       "    <tr>\n",
       "      <th>242</th>\n",
       "      <td>27</td>\n",
       "      <td>9</td>\n",
       "      <td>2012</td>\n",
       "      <td>28</td>\n",
       "      <td>87</td>\n",
       "      <td>15</td>\n",
       "      <td>4.4</td>\n",
       "      <td>41.1</td>\n",
       "      <td>6.5</td>\n",
       "      <td>8.0</td>\n",
       "      <td>0.1</td>\n",
       "      <td>6.2</td>\n",
       "      <td>0.0</td>\n",
       "      <td>not fire</td>\n",
       "    </tr>\n",
       "    <tr>\n",
       "      <th>243</th>\n",
       "      <td>28</td>\n",
       "      <td>9</td>\n",
       "      <td>2012</td>\n",
       "      <td>27</td>\n",
       "      <td>87</td>\n",
       "      <td>29</td>\n",
       "      <td>0.5</td>\n",
       "      <td>45.9</td>\n",
       "      <td>3.5</td>\n",
       "      <td>7.9</td>\n",
       "      <td>0.4</td>\n",
       "      <td>3.4</td>\n",
       "      <td>0.2</td>\n",
       "      <td>not fire</td>\n",
       "    </tr>\n",
       "    <tr>\n",
       "      <th>244</th>\n",
       "      <td>29</td>\n",
       "      <td>9</td>\n",
       "      <td>2012</td>\n",
       "      <td>24</td>\n",
       "      <td>54</td>\n",
       "      <td>18</td>\n",
       "      <td>0.1</td>\n",
       "      <td>79.7</td>\n",
       "      <td>4.3</td>\n",
       "      <td>15.2</td>\n",
       "      <td>1.7</td>\n",
       "      <td>5.1</td>\n",
       "      <td>0.7</td>\n",
       "      <td>not fire</td>\n",
       "    </tr>\n",
       "    <tr>\n",
       "      <th>245</th>\n",
       "      <td>30</td>\n",
       "      <td>9</td>\n",
       "      <td>2012</td>\n",
       "      <td>24</td>\n",
       "      <td>64</td>\n",
       "      <td>15</td>\n",
       "      <td>0.2</td>\n",
       "      <td>67.3</td>\n",
       "      <td>3.8</td>\n",
       "      <td>16.5</td>\n",
       "      <td>1.2</td>\n",
       "      <td>4.8</td>\n",
       "      <td>0.5</td>\n",
       "      <td>not fire</td>\n",
       "    </tr>\n",
       "  </tbody>\n",
       "</table>\n",
       "<p>244 rows × 14 columns</p>\n",
       "</div>"
      ],
      "text/plain": [
       "     day  month  year  Temperature  RH  Ws  Rain  FFMC   DMC    DC  ISI   BUI  \\\n",
       "0      1      6  2012           29  57  18   0.0  65.7   3.4   7.6  1.3   3.4   \n",
       "1      2      6  2012           29  61  13   1.3  64.4   4.1   7.6  1.0   3.9   \n",
       "2      3      6  2012           26  82  22  13.1  47.1   2.5   7.1  0.3   2.7   \n",
       "3      4      6  2012           25  89  13   2.5  28.6   1.3   6.9  0.0   1.7   \n",
       "4      5      6  2012           27  77  16   0.0  64.8   3.0  14.2  1.2   3.9   \n",
       "..   ...    ...   ...          ...  ..  ..   ...   ...   ...   ...  ...   ...   \n",
       "241   26      9  2012           30  65  14   0.0  85.4  16.0  44.5  4.5  16.9   \n",
       "242   27      9  2012           28  87  15   4.4  41.1   6.5   8.0  0.1   6.2   \n",
       "243   28      9  2012           27  87  29   0.5  45.9   3.5   7.9  0.4   3.4   \n",
       "244   29      9  2012           24  54  18   0.1  79.7   4.3  15.2  1.7   5.1   \n",
       "245   30      9  2012           24  64  15   0.2  67.3   3.8  16.5  1.2   4.8   \n",
       "\n",
       "     FWI   classes  \n",
       "0    0.5  not fire  \n",
       "1    0.4  not fire  \n",
       "2    0.1  not fire  \n",
       "3    0.0  not fire  \n",
       "4    0.5  not fire  \n",
       "..   ...       ...  \n",
       "241  6.5      fire  \n",
       "242  0.0  not fire  \n",
       "243  0.2  not fire  \n",
       "244  0.7  not fire  \n",
       "245  0.5  not fire  \n",
       "\n",
       "[244 rows x 14 columns]"
      ]
     },
     "execution_count": 143,
     "metadata": {},
     "output_type": "execute_result"
    }
   ],
   "source": [
    "df9"
   ]
  },
  {
   "cell_type": "code",
   "execution_count": 144,
   "id": "534c7a44",
   "metadata": {},
   "outputs": [
    {
     "name": "stderr",
     "output_type": "stream",
     "text": [
      "/home/honey/anaconda3/lib/python3.9/site-packages/seaborn/_decorators.py:36: FutureWarning: Pass the following variable as a keyword arg: x. From version 0.12, the only valid positional argument will be `data`, and passing other arguments without an explicit keyword will result in an error or misinterpretation.\n",
      "  warnings.warn(\n"
     ]
    },
    {
     "data": {
      "text/plain": [
       "<AxesSubplot:xlabel='classes', ylabel='count'>"
      ]
     },
     "execution_count": 144,
     "metadata": {},
     "output_type": "execute_result"
    },
    {
     "data": {
      "image/png": "[encoded data removed]",
      "text/plain": [
       "<Figure size 432x288 with 1 Axes>"
      ]
     },
     "metadata": {
      "needs_background": "light"
     },
     "output_type": "display_data"
    }
   ],
   "source": [
    "sns.countplot(df9['classes'])"
   ]
  },
  {
   "cell_type": "code",
   "execution_count": 145,
   "id": "4254be0f",
   "metadata": {},
   "outputs": [
    {
     "data": {
      "text/plain": [
       "<AxesSubplot:ylabel='classes'>"
      ]
     },
     "execution_count": 145,
     "metadata": {},
     "output_type": "execute_result"
    },
    {
     "data": {
      "image/png": "[encoded data removed]",
      "text/plain": [
       "<Figure size 432x288 with 1 Axes>"
      ]
     },
     "metadata": {},
     "output_type": "display_data"
    }
   ],
   "source": [
    "df9['classes'].value_counts().plot(kind='pie', autopct='%0.2f')"
   ]
  },
  {
   "cell_type": "code",
   "execution_count": 146,
   "id": "278275db",
   "metadata": {},
   "outputs": [
    {
     "data": {
      "text/plain": [
       "array([[<AxesSubplot:title={'center':'day'}>,\n",
       "        <AxesSubplot:title={'center':'month'}>,\n",
       "        <AxesSubplot:title={'center':'year'}>,\n",
       "        <AxesSubplot:title={'center':'Temperature'}>],\n",
       "       [<AxesSubplot:title={'center':'RH'}>,\n",
       "        <AxesSubplot:title={'center':'Ws'}>,\n",
       "        <AxesSubplot:title={'center':'Rain'}>,\n",
       "        <AxesSubplot:title={'center':'FFMC'}>],\n",
       "       [<AxesSubplot:title={'center':'DMC'}>,\n",
       "        <AxesSubplot:title={'center':'DC'}>,\n",
       "        <AxesSubplot:title={'center':'ISI'}>,\n",
       "        <AxesSubplot:title={'center':'BUI'}>],\n",
       "       [<AxesSubplot:title={'center':'FWI'}>, <AxesSubplot:>,\n",
       "        <AxesSubplot:>, <AxesSubplot:>]], dtype=object)"
      ]
     },
     "execution_count": 146,
     "metadata": {},
     "output_type": "execute_result"
    },
    {
     "data": {
      "image/png": "[encoded data removed]",
      "text/plain": [
       "<Figure size 864x864 with 16 Axes>"
      ]
     },
     "metadata": {
      "needs_background": "light"
     },
     "output_type": "display_data"
    }
   ],
   "source": [
    "df9.hist( density=True, figsize=(12,12))"
   ]
  },
  {
   "cell_type": "code",
   "execution_count": 147,
   "id": "062f1516",
   "metadata": {},
   "outputs": [
    {
     "data": {
      "text/plain": [
       "<AxesSubplot:ylabel='Density'>"
      ]
     },
     "execution_count": 147,
     "metadata": {},
     "output_type": "execute_result"
    },
    {
     "data": {
      "image/png": "[encoded data removed]",
      "text/plain": [
       "<Figure size 432x288 with 1 Axes>"
      ]
     },
     "metadata": {
      "needs_background": "light"
     },
     "output_type": "display_data"
    }
   ],
   "source": [
    "df9['Temperature'].plot(kind='kde')"
   ]
  },
  {
   "cell_type": "code",
   "execution_count": 148,
   "id": "28027f2a",
   "metadata": {},
   "outputs": [
    {
     "name": "stderr",
     "output_type": "stream",
     "text": [
      "/home/honey/anaconda3/lib/python3.9/site-packages/seaborn/distributions.py:2619: FutureWarning: `distplot` is a deprecated function and will be removed in a future version. Please adapt your code to use either `displot` (a figure-level function with similar flexibility) or `histplot` (an axes-level function for histograms).\n",
      "  warnings.warn(msg, FutureWarning)\n"
     ]
    },
    {
     "data": {
      "text/plain": [
       "<AxesSubplot:xlabel='Temperature', ylabel='Density'>"
      ]
     },
     "execution_count": 148,
     "metadata": {},
     "output_type": "execute_result"
    },
    {
     "data": {
      "image/png": "[encoded data removed]",
      "text/plain": [
       "<Figure size 432x288 with 1 Axes>"
      ]
     },
     "metadata": {
      "needs_background": "light"
     },
     "output_type": "display_data"
    }
   ],
   "source": [
    "sns.distplot(df9['Temperature'])"
   ]
  },
  {
   "cell_type": "code",
   "execution_count": 149,
   "id": "5f5cc6b9",
   "metadata": {},
   "outputs": [
    {
     "name": "stderr",
     "output_type": "stream",
     "text": [
      "/home/honey/anaconda3/lib/python3.9/site-packages/seaborn/distributions.py:2619: FutureWarning: `distplot` is a deprecated function and will be removed in a future version. Please adapt your code to use either `displot` (a figure-level function with similar flexibility) or `histplot` (an axes-level function for histograms).\n",
      "  warnings.warn(msg, FutureWarning)\n"
     ]
    },
    {
     "data": {
      "text/plain": [
       "<AxesSubplot:xlabel='RH', ylabel='Density'>"
      ]
     },
     "execution_count": 149,
     "metadata": {},
     "output_type": "execute_result"
    },
    {
     "data": {
      "image/png": "[encoded data removed]",
      "text/plain": [
       "<Figure size 432x288 with 1 Axes>"
      ]
     },
     "metadata": {
      "needs_background": "light"
     },
     "output_type": "display_data"
    }
   ],
   "source": [
    "sns.distplot(df9['RH'])"
   ]
  },
  {
   "cell_type": "code",
   "execution_count": 150,
   "id": "1dc74273",
   "metadata": {},
   "outputs": [
    {
     "name": "stderr",
     "output_type": "stream",
     "text": [
      "/home/honey/anaconda3/lib/python3.9/site-packages/seaborn/distributions.py:2619: FutureWarning: `distplot` is a deprecated function and will be removed in a future version. Please adapt your code to use either `displot` (a figure-level function with similar flexibility) or `histplot` (an axes-level function for histograms).\n",
      "  warnings.warn(msg, FutureWarning)\n"
     ]
    },
    {
     "data": {
      "text/plain": [
       "<AxesSubplot:xlabel='FWI', ylabel='Density'>"
      ]
     },
     "execution_count": 150,
     "metadata": {},
     "output_type": "execute_result"
    },
    {
     "data": {
      "image/png": "[encoded data removed]",
      "text/plain": [
       "<Figure size 432x288 with 1 Axes>"
      ]
     },
     "metadata": {
      "needs_background": "light"
     },
     "output_type": "display_data"
    }
   ],
   "source": [
    "sns.distplot(df9['FWI'])"
   ]
  },
  {
   "cell_type": "code",
   "execution_count": 151,
   "id": "ad545b8c",
   "metadata": {},
   "outputs": [
    {
     "name": "stderr",
     "output_type": "stream",
     "text": [
      "/home/honey/anaconda3/lib/python3.9/site-packages/seaborn/_decorators.py:36: FutureWarning: Pass the following variable as a keyword arg: x. From version 0.12, the only valid positional argument will be `data`, and passing other arguments without an explicit keyword will result in an error or misinterpretation.\n",
      "  warnings.warn(\n"
     ]
    },
    {
     "data": {
      "text/plain": [
       "<AxesSubplot:xlabel='FWI'>"
      ]
     },
     "execution_count": 151,
     "metadata": {},
     "output_type": "execute_result"
    },
    {
     "data": {
      "image/png": "[encoded data removed]",
      "text/plain": [
       "<Figure size 432x288 with 1 Axes>"
      ]
     },
     "metadata": {
      "needs_background": "light"
     },
     "output_type": "display_data"
    }
   ],
   "source": [
    "sns.boxplot(df9['FWI'])"
   ]
  },
  {
   "cell_type": "code",
   "execution_count": 152,
   "id": "e8d09812",
   "metadata": {},
   "outputs": [
    {
     "data": {
      "text/plain": [
       "array([[<AxesSubplot:title={'center':'day'}>,\n",
       "        <AxesSubplot:title={'center':'month'}>,\n",
       "        <AxesSubplot:title={'center':'year'}>,\n",
       "        <AxesSubplot:title={'center':'Temperature'}>],\n",
       "       [<AxesSubplot:title={'center':'RH'}>,\n",
       "        <AxesSubplot:title={'center':'Ws'}>,\n",
       "        <AxesSubplot:title={'center':'Rain'}>,\n",
       "        <AxesSubplot:title={'center':'FFMC'}>],\n",
       "       [<AxesSubplot:title={'center':'DMC'}>,\n",
       "        <AxesSubplot:title={'center':'DC'}>,\n",
       "        <AxesSubplot:title={'center':'ISI'}>,\n",
       "        <AxesSubplot:title={'center':'BUI'}>],\n",
       "       [<AxesSubplot:title={'center':'FWI'}>, <AxesSubplot:>,\n",
       "        <AxesSubplot:>, <AxesSubplot:>]], dtype=object)"
      ]
     },
     "execution_count": 152,
     "metadata": {},
     "output_type": "execute_result"
    },
    {
     "data": {
      "image/png": "[encoded data removed]",
      "text/plain": [
       "<Figure size 864x864 with 16 Axes>"
      ]
     },
     "metadata": {
      "needs_background": "light"
     },
     "output_type": "display_data"
    }
   ],
   "source": [
    "df9.hist( density=True, figsize=(12,12))"
   ]
  },
  {
   "cell_type": "code",
   "execution_count": 153,
   "id": "fe5571d1",
   "metadata": {},
   "outputs": [
    {
     "data": {
      "text/html": [
       "<div>\n",
       "<style scoped>\n",
       "    .dataframe tbody tr th:only-of-type {\n",
       "        vertical-align: middle;\n",
       "    }\n",
       "\n",
       "    .dataframe tbody tr th {\n",
       "        vertical-align: top;\n",
       "    }\n",
       "\n",
       "    .dataframe thead th {\n",
       "        text-align: right;\n",
       "    }\n",
       "</style>\n",
       "<table border=\"1\" class=\"dataframe\">\n",
       "  <thead>\n",
       "    <tr style=\"text-align: right;\">\n",
       "      <th></th>\n",
       "      <th>day</th>\n",
       "      <th>month</th>\n",
       "      <th>year</th>\n",
       "      <th>Temperature</th>\n",
       "      <th>RH</th>\n",
       "      <th>Ws</th>\n",
       "      <th>Rain</th>\n",
       "      <th>FFMC</th>\n",
       "      <th>DMC</th>\n",
       "      <th>DC</th>\n",
       "      <th>ISI</th>\n",
       "      <th>BUI</th>\n",
       "      <th>FWI</th>\n",
       "      <th>classes</th>\n",
       "    </tr>\n",
       "  </thead>\n",
       "  <tbody>\n",
       "    <tr>\n",
       "      <th>0</th>\n",
       "      <td>1</td>\n",
       "      <td>6</td>\n",
       "      <td>2012</td>\n",
       "      <td>29</td>\n",
       "      <td>57</td>\n",
       "      <td>18</td>\n",
       "      <td>0.0</td>\n",
       "      <td>65.7</td>\n",
       "      <td>3.4</td>\n",
       "      <td>7.6</td>\n",
       "      <td>1.3</td>\n",
       "      <td>3.4</td>\n",
       "      <td>0.5</td>\n",
       "      <td>not fire</td>\n",
       "    </tr>\n",
       "    <tr>\n",
       "      <th>1</th>\n",
       "      <td>2</td>\n",
       "      <td>6</td>\n",
       "      <td>2012</td>\n",
       "      <td>29</td>\n",
       "      <td>61</td>\n",
       "      <td>13</td>\n",
       "      <td>1.3</td>\n",
       "      <td>64.4</td>\n",
       "      <td>4.1</td>\n",
       "      <td>7.6</td>\n",
       "      <td>1.0</td>\n",
       "      <td>3.9</td>\n",
       "      <td>0.4</td>\n",
       "      <td>not fire</td>\n",
       "    </tr>\n",
       "    <tr>\n",
       "      <th>2</th>\n",
       "      <td>3</td>\n",
       "      <td>6</td>\n",
       "      <td>2012</td>\n",
       "      <td>26</td>\n",
       "      <td>82</td>\n",
       "      <td>22</td>\n",
       "      <td>13.1</td>\n",
       "      <td>47.1</td>\n",
       "      <td>2.5</td>\n",
       "      <td>7.1</td>\n",
       "      <td>0.3</td>\n",
       "      <td>2.7</td>\n",
       "      <td>0.1</td>\n",
       "      <td>not fire</td>\n",
       "    </tr>\n",
       "    <tr>\n",
       "      <th>3</th>\n",
       "      <td>4</td>\n",
       "      <td>6</td>\n",
       "      <td>2012</td>\n",
       "      <td>25</td>\n",
       "      <td>89</td>\n",
       "      <td>13</td>\n",
       "      <td>2.5</td>\n",
       "      <td>28.6</td>\n",
       "      <td>1.3</td>\n",
       "      <td>6.9</td>\n",
       "      <td>0.0</td>\n",
       "      <td>1.7</td>\n",
       "      <td>0.0</td>\n",
       "      <td>not fire</td>\n",
       "    </tr>\n",
       "    <tr>\n",
       "      <th>4</th>\n",
       "      <td>5</td>\n",
       "      <td>6</td>\n",
       "      <td>2012</td>\n",
       "      <td>27</td>\n",
       "      <td>77</td>\n",
       "      <td>16</td>\n",
       "      <td>0.0</td>\n",
       "      <td>64.8</td>\n",
       "      <td>3.0</td>\n",
       "      <td>14.2</td>\n",
       "      <td>1.2</td>\n",
       "      <td>3.9</td>\n",
       "      <td>0.5</td>\n",
       "      <td>not fire</td>\n",
       "    </tr>\n",
       "  </tbody>\n",
       "</table>\n",
       "</div>"
      ],
      "text/plain": [
       "   day  month  year  Temperature  RH  Ws  Rain  FFMC  DMC    DC  ISI  BUI  \\\n",
       "0    1      6  2012           29  57  18   0.0  65.7  3.4   7.6  1.3  3.4   \n",
       "1    2      6  2012           29  61  13   1.3  64.4  4.1   7.6  1.0  3.9   \n",
       "2    3      6  2012           26  82  22  13.1  47.1  2.5   7.1  0.3  2.7   \n",
       "3    4      6  2012           25  89  13   2.5  28.6  1.3   6.9  0.0  1.7   \n",
       "4    5      6  2012           27  77  16   0.0  64.8  3.0  14.2  1.2  3.9   \n",
       "\n",
       "   FWI   classes  \n",
       "0  0.5  not fire  \n",
       "1  0.4  not fire  \n",
       "2  0.1  not fire  \n",
       "3  0.0  not fire  \n",
       "4  0.5  not fire  "
      ]
     },
     "execution_count": 153,
     "metadata": {},
     "output_type": "execute_result"
    }
   ],
   "source": [
    "df9.head()"
   ]
  },
  {
   "cell_type": "code",
   "execution_count": 116,
   "id": "361dd7d1",
   "metadata": {},
   "outputs": [],
   "source": [
    "df9.to_csv('forest_updated1')"
   ]
  },
  {
   "cell_type": "code",
   "execution_count": null,
   "id": "593c81ef",
   "metadata": {},
   "outputs": [],
   "source": []
  }
 ],
 "metadata": {
  "kernelspec": {
   "display_name": "base",
   "language": "python",
   "name": "python3"
  },
  "language_info": {
   "codemirror_mode": {
    "name": "ipython",
    "version": 3
   },
   "file_extension": ".py",
   "mimetype": "text/x-python",
   "name": "python",
   "nbconvert_exporter": "python",
   "pygments_lexer": "ipython3",
   "version": "3.9.7"
  },
  "vscode": {
   "interpreter": {
    "hash": "d2fc24a3768354b1c4f177f8460c8ccbc47fb51737954a3d73f80bf3a5588252"
   }
  }
 },
 "nbformat": 4,
 "nbformat_minor": 5
}
